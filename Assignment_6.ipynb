{
 "cells": [
  {
   "cell_type": "markdown",
   "id": "9eac0ca9-4c57-45bc-a33a-ca832ed234a2",
   "metadata": {},
   "source": [
    "# Q1"
   ]
  },
  {
   "cell_type": "markdown",
   "id": "8fe98d16-51bd-4bfe-b326-be73a970ee69",
   "metadata": {},
   "source": [
    "A permutation perm of n + 1 integers of all the integers in the range [0, n] can be represented as a string s of length n where:\n",
    "\n",
    "- s[i] == 'I' if perm[i] < perm[i + 1], and\n",
    "- s[i] == 'D' if perm[i] > perm[i + 1].\n",
    "\n",
    "Given a string s, reconstruct the permutation perm and return it. If there are multiple valid permutations perm, return **any of them**.\n",
    "\n",
    "**Example 1:**\n",
    "\n",
    "**Input:** s = \"IDID\"\n",
    "\n",
    "**Output:**=[0, 4, 1, 3, 2]"
   ]
  },
  {
   "cell_type": "code",
   "execution_count": 10,
   "id": "1e0a3324-69cb-4286-93b9-c8d9c188c774",
   "metadata": {},
   "outputs": [
    {
     "data": {
      "text/plain": [
       "[0, 4, 1, 3, 2]"
      ]
     },
     "execution_count": 10,
     "metadata": {},
     "output_type": "execute_result"
    }
   ],
   "source": [
    "\n",
    "    def diStringMatch(s):\n",
    "        result=[]\n",
    "        count_I=0\n",
    "        count_D=len(s)\n",
    "        for i in range(len(s)):\n",
    "            if s[i]=='I':\n",
    "                    result.append(count_I)\n",
    "                    count_I+=1   \n",
    "            if s[i]=='D' :\n",
    "                    result.append(count_D)\n",
    "                    count_D-=1  \n",
    "        return  result+[count_I]        \n",
    "    \n",
    "    s = \"IDID\"\n",
    "    diStringMatch(s)"
   ]
  },
  {
   "cell_type": "markdown",
   "id": "48440b03-f9ea-41bc-9737-380b51103489",
   "metadata": {},
   "source": [
    "# Q2"
   ]
  },
  {
   "cell_type": "markdown",
   "id": "3fb6e52e-a788-4692-8e07-2d402c6a0441",
   "metadata": {},
   "source": [
    "You are given an m x n integer matrix matrix with the following two properties:\n",
    "\n",
    "- Each row is sorted in non-decreasing order.\n",
    "- The first integer of each row is greater than the last integer of the previous row.\n",
    "\n",
    "Given an integer target, return true *if* target *is in* matrix *or* false *otherwise*.\n",
    "\n",
    "You must write a solution in O(log(m * n)) time complexity.\n",
    "\n",
    "**Example 1:**\n",
    "**Input:** matrix = [[1,3,5,7],[10,11,16,20],[23,30,34,60]], target = 3\n",
    "\n",
    "**Output:** true"
   ]
  },
  {
   "cell_type": "code",
   "execution_count": 13,
   "id": "e4a8c0ca-c739-4282-9777-042d1792aa67",
   "metadata": {},
   "outputs": [
    {
     "data": {
      "text/plain": [
       "True"
      ]
     },
     "execution_count": 13,
     "metadata": {},
     "output_type": "execute_result"
    }
   ],
   "source": [
    "def search_In_2D(matrix,target):\n",
    "    row=0\n",
    "    col=len(matrix[row])-1\n",
    "    while row<len(matrix) and col>=0:\n",
    "        num=matrix[row][col]\n",
    "        if target==num:\n",
    "            return True\n",
    "        elif target<num:\n",
    "            col-=1\n",
    "        else:\n",
    "            row+=1\n",
    "    return False        \n",
    "matrix = [[1,3,5,7],[10,11,16,20],[23,30,34,60]]\n",
    "target = 3         \n",
    "search_In_2D(matrix,target)"
   ]
  },
  {
   "cell_type": "markdown",
   "id": "e0e46fa6-de51-4989-89ca-1d97fe56b44f",
   "metadata": {},
   "source": [
    "# Q3"
   ]
  },
  {
   "cell_type": "markdown",
   "id": "7d728f1c-62f7-4312-b012-da274a51aa82",
   "metadata": {},
   "source": [
    "Given an array of integers arr, return *true if and only if it is a valid mountain array*.\n",
    "\n",
    "Recall that arr is a mountain array if and only if:\n",
    "\n",
    "- arr.length >= 3\n",
    "- There exists some i with 0 < i < arr.length - 1 such that:\n",
    "    - arr[0] < arr[1] < ... < arr[i - 1] < arr[i]\n",
    "    - arr[i] > arr[i + 1] > ... > arr[arr.length - 1]\n",
    "    \n",
    "**Example 1:**\n",
    "\n",
    "**Input:** arr = [2,1]\n",
    "\n",
    "**Output:**\n",
    "\n",
    "false    "
   ]
  },
  {
   "cell_type": "code",
   "execution_count": 35,
   "id": "6b2d2f6e-602b-42d4-93f8-03b515345076",
   "metadata": {},
   "outputs": [
    {
     "data": {
      "text/plain": [
       "False"
      ]
     },
     "execution_count": 35,
     "metadata": {},
     "output_type": "execute_result"
    }
   ],
   "source": [
    "def ValidMountainArray(arr):\n",
    "    if len(arr)<3:\n",
    "        return False\n",
    "    max_num=max(arr)\n",
    "    x=arr.index(max_num)\n",
    "    \n",
    "    if x==0 or x==len(arr)-1:\n",
    "        return False\n",
    "    Is_Increasing_till_Max=all(a<b for a,b in zip(arr[:x],arr[1:x+1]))\n",
    "    Is_Decreasing_after_Max=all(a>b for a,b in zip(arr[x:],arr[x+1:]))\n",
    "    \n",
    "    return Is_Increasing_till_Max and Is_Decreaing_after_Max\n",
    "arr=[3,6,5,6,7,6,5,3,0]\n",
    "ValidMountainArray(arr)"
   ]
  },
  {
   "cell_type": "markdown",
   "id": "4bf21667-489c-470f-b546-7a5787b4440f",
   "metadata": {},
   "source": [
    "# Q4"
   ]
  },
  {
   "cell_type": "markdown",
   "id": "a7dd53ba-835a-4ae8-988b-2b373d9af3b8",
   "metadata": {},
   "source": [
    "Given a binary array nums, return *the maximum length of a contiguous subarray with an equal number of* 0 *and* 1.\n",
    "\n",
    "**Example 1:**\n",
    "\n",
    "**Input:** nums = [0,1]\n",
    "\n",
    "**Output:** 2\n",
    "\n",
    "**Explanation:**\n",
    "\n",
    "[0, 1] is the longest contiguous subarray with an equal number of 0 and 1."
   ]
  },
  {
   "cell_type": "code",
   "execution_count": 1,
   "id": "4fe9e4aa-9ee2-440c-8cf3-95c6c73eca6c",
   "metadata": {},
   "outputs": [
    {
     "data": {
      "text/plain": [
       "2"
      ]
     },
     "execution_count": 1,
     "metadata": {},
     "output_type": "execute_result"
    }
   ],
   "source": [
    "\n",
    "    def findMaxLength( nums):\n",
    "        count = {0: -1}  # Initial count of 0's and 1's\n",
    "        max_len = count_diff = 0\n",
    "        \n",
    "        for i, num in enumerate(nums):\n",
    "            count_diff += 1 if num == 1 else -1  # Increment count of 1's or 0's\n",
    "            if count_diff in count:\n",
    "                max_len = max(max_len, i - count[count_diff])\n",
    "            else:\n",
    "                count[count_diff] = i\n",
    "        \n",
    "        return max_len\n",
    "    nums = [0,1]\n",
    "    findMaxLength( nums)   "
   ]
  },
  {
   "cell_type": "markdown",
   "id": "ab3be8bc-ec1c-4e30-87d9-3056b76aac9b",
   "metadata": {},
   "source": [
    "# Q5"
   ]
  },
  {
   "cell_type": "markdown",
   "id": "c13935f6-9adf-46c7-b330-3733bf544dbc",
   "metadata": {},
   "source": [
    "The **product sum** of two equal-length arrays a and b is equal to the sum of a[i] * b[i] for all 0 <= i < a.length (**0-indexed**).\n",
    "\n",
    "- For example, if a = [1,2,3,4] and b = [5,2,3,1], the **product sum** would be 1*5 + 2*2 + 3*3 + 4*1 = 22.\n",
    "\n",
    "Given two arrays nums1 and nums2 of length n, return *the **minimum product sum** if you are allowed to **rearrange** the **order** of the elements in* nums1.\n",
    "\n",
    "**Example 1:**\n",
    "\n",
    "**Input:** nums1 = [5,3,4,2], nums2 = [4,2,2,5]\n",
    "\n",
    "**Output:** 40\n",
    "\n",
    "**Explanation:**\n",
    "\n",
    "We can rearrange nums1 to become [3,5,4,2]. The product sum of [3,5,4,2] and [4,2,2,5] is 3*4 + 5*2 + 4*2 + 2*5 = 40."
   ]
  },
  {
   "cell_type": "code",
   "execution_count": 2,
   "id": "7054a10e-9696-49f8-8e5b-de3d075d3c6b",
   "metadata": {},
   "outputs": [
    {
     "name": "stdout",
     "output_type": "stream",
     "text": [
      "40\n"
     ]
    }
   ],
   "source": [
    "\n",
    "def minValue(A, B, n):\n",
    "\tA.sort()\n",
    "\tB.sort()\n",
    "\tresult = 0\n",
    "\tfor i in range(n):\n",
    "\t\tresult += (A[i] * B[n - i - 1])\n",
    "\n",
    "\treturn result\n",
    "A =  [5,3,4,2]\n",
    "B = [4,2,2,5]\n",
    "n = len(A)\n",
    "print (minValue(A, B, n))\n",
    "\n",
    "\n"
   ]
  },
  {
   "cell_type": "markdown",
   "id": "9d95a2a7-1625-4aa0-9667-508e56a16366",
   "metadata": {},
   "source": [
    "# Q6"
   ]
  },
  {
   "cell_type": "markdown",
   "id": "e644e9c6-ea1f-4b45-a28a-8e4e2006b598",
   "metadata": {},
   "source": [
    "An integer array original is transformed into a **doubled** array changed by appending **twice the value** of every element in original, and then randomly **shuffling** the resulting array.\n",
    "\n",
    "Given an array changed, return original *if* changed *is a **doubled** array. If* changed *is not a **doubled** array, return an empty array. The elements in* original *may be returned in **any** order*.\n",
    "\n",
    "**Example 1:**\n",
    "\n",
    "**Input:** changed = [1,3,4,2,6,8]\n",
    "\n",
    "**Output:** [1,3,4]\n",
    "\n",
    "**Explanation:** One possible original array could be [1,3,4]:\n",
    "\n",
    "- Twice the value of 1 is 1 * 2 = 2.\n",
    "- Twice the value of 3 is 3 * 2 = 6.\n",
    "- Twice the value of 4 is 4 * 2 = 8.\n",
    "\n",
    "Other original arrays could be [4,3,1] or [3,1,4]."
   ]
  },
  {
   "cell_type": "code",
   "execution_count": 5,
   "id": "1dbb8b94-3528-4f52-b0e5-f8eddc747673",
   "metadata": {},
   "outputs": [
    {
     "data": {
      "text/plain": [
       "[1, 4, 3]"
      ]
     },
     "execution_count": 5,
     "metadata": {},
     "output_type": "execute_result"
    }
   ],
   "source": [
    "    from collections import Counter\n",
    "    def findOriginalArray(changed):\n",
    "        counter =Counter(changed)\n",
    "        res = []\n",
    "        for k in counter.keys():\n",
    "            \n",
    "            if k == 0:\n",
    "                # handle zero as special case\n",
    "                if counter[k] % 2 > 0:\n",
    "                    return []\n",
    "                res += [0] * (counter[k] // 2)\n",
    "                \n",
    "            elif counter[k] > 0:\n",
    "                x = k\n",
    "                \n",
    "                # walk down the chain\n",
    "                while x % 2 == 0 and x // 2 in counter:\n",
    "                    x = x // 2\n",
    "                    \n",
    "                # walk up and process all numbers within the chain. mark the counts as 0\n",
    "                while x in counter:\n",
    "                    if counter[x] > 0:\n",
    "                        res += [x] * counter[x]\n",
    "                        if counter[x+x] < counter[x]:\n",
    "                            return []\n",
    "                        counter[x+x] -= counter[x]\n",
    "                        counter[x] = 0\n",
    "                    x += x\n",
    "        return res\n",
    "    \n",
    "changed = [1,3,4,2,6,8]\n",
    "findOriginalArray(changed)"
   ]
  },
  {
   "cell_type": "markdown",
   "id": "eecde14b-c771-4b61-815f-874defec86bf",
   "metadata": {},
   "source": [
    "# Q7"
   ]
  },
  {
   "cell_type": "markdown",
   "id": "06b82d9c-bf37-4b25-856d-c92c25490aed",
   "metadata": {},
   "source": [
    "Given a positive integer n, generate an n x n matrix filled with elements from 1 to n2 in spiral order.\n",
    "**Input:** n = 3\n",
    "\n",
    "**Output:** [[1,2,3],[8,9,4],[7,6,5]]"
   ]
  },
  {
   "cell_type": "code",
   "execution_count": 7,
   "id": "5a88803b-ebec-44c6-85f4-1e2faeaed81b",
   "metadata": {},
   "outputs": [
    {
     "data": {
      "text/plain": [
       "[[1, 2, 3], [8, 9, 4], [7, 6, 5]]"
      ]
     },
     "execution_count": 7,
     "metadata": {},
     "output_type": "execute_result"
    }
   ],
   "source": [
    "def generateMatrix(n):\n",
    "    A = [[0] * n for _ in range(n)]\n",
    "    i, j, di, dj = 0, 0, 0, 1\n",
    "    for k in range(n*n):\n",
    "        A[i][j] = k + 1\n",
    "        if A[(i+di)%n][(j+dj)%n]:\n",
    "            di, dj = dj, -di\n",
    "        i += di\n",
    "        j += dj\n",
    "    return A\n",
    "n=3\n",
    "generateMatrix(n)"
   ]
  },
  {
   "cell_type": "markdown",
   "id": "762cf543-8c74-4a0b-a51d-cfd021c8c073",
   "metadata": {},
   "source": [
    "# Q8"
   ]
  },
  {
   "cell_type": "markdown",
   "id": "090df989-79ea-48d4-ace1-91b62d9339de",
   "metadata": {},
   "source": [
    "<aside>\n",
    "💡 **Question 8**\n",
    "\n",
    "Given two [sparse matrices](https://en.wikipedia.org/wiki/Sparse_matrix) mat1 of size m x k and mat2 of size k x n, return the result of mat1 x mat2. You may assume that multiplication is always possible.\n",
    "\n",
    "</aside>"
   ]
  },
  {
   "cell_type": "code",
   "execution_count": 9,
   "id": "52e2ef06-e8e7-4b52-8875-9c9d7a132aca",
   "metadata": {},
   "outputs": [
    {
     "data": {
      "text/plain": [
       "[[7, 0, 0], [-7, 0, 3]]"
      ]
     },
     "execution_count": 9,
     "metadata": {},
     "output_type": "execute_result"
    }
   ],
   "source": [
    "def multiply( mat1, mat2):\n",
    "        r1, c1, c2 = len(mat1), len(mat1[0]), len(mat2[0])\n",
    "        res = [[0] * c2 for _ in range(r1)]\n",
    "        for i in range(r1):\n",
    "            for j in range(c2):\n",
    "                for k in range(c1):\n",
    "                    res[i][j] += mat1[i][k] * mat2[k][j]\n",
    "        return res\n",
    "mat1 = [[1,0,0],[-1,0,3]]\n",
    "mat2 = [[7,0,0],[0,0,0],[0,0,1]]  \n",
    "multiply( mat1, mat2)"
   ]
  },
  {
   "cell_type": "code",
   "execution_count": null,
   "id": "d3f1b1e9-8097-4aea-9450-31d8264d7a59",
   "metadata": {},
   "outputs": [],
   "source": []
  }
 ],
 "metadata": {
  "kernelspec": {
   "display_name": "Python 3 (ipykernel)",
   "language": "python",
   "name": "python3"
  },
  "language_info": {
   "codemirror_mode": {
    "name": "ipython",
    "version": 3
   },
   "file_extension": ".py",
   "mimetype": "text/x-python",
   "name": "python",
   "nbconvert_exporter": "python",
   "pygments_lexer": "ipython3",
   "version": "3.10.8"
  }
 },
 "nbformat": 4,
 "nbformat_minor": 5
}
