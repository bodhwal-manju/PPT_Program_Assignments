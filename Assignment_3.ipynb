{
 "cells": [
  {
   "cell_type": "markdown",
   "id": "f405b68a-e20f-40b8-a0d8-9b5bc7f2434d",
   "metadata": {},
   "source": [
    "# Q1"
   ]
  },
  {
   "cell_type": "markdown",
   "id": "5da6f920-107d-4abb-ab4f-ceb6cd7f8391",
   "metadata": {},
   "source": [
    "Question 1\n",
    "Given an integer array nums of length n and an integer target, find three integers\n",
    "in nums such that the sum is closest to the target.\n",
    "Return the sum of the three integers.\n",
    "\n",
    "You may assume that each input would have exactly one solution.\n",
    "\n",
    "Example 1:\n",
    "Input: nums = [-1,2,1,-4], target = 1\n",
    "Output: 2\n",
    "\n",
    "Explanation: The sum that is closest to the target is 2. (-1 + 2 + 1 = 2)."
   ]
  },
  {
   "cell_type": "code",
   "execution_count": 30,
   "id": "09d47f9b-2f53-499c-a20f-824871813ff7",
   "metadata": {},
   "outputs": [
    {
     "data": {
      "text/plain": [
       "-2"
      ]
     },
     "execution_count": 30,
     "metadata": {},
     "output_type": "execute_result"
    }
   ],
   "source": [
    "def Closest_3_sum(nums,target):\n",
    "    closest=float('inf')\n",
    "    nums.sort()\n",
    "    for i in range(len(nums)-2):\n",
    "        L,R=i+1,len(nums)-1\n",
    "        while(L<R):\n",
    "            sum=nums[i]+nums[L]+nums[R]\n",
    "            if sum<target:\n",
    "                L+=1\n",
    "            else:    \n",
    "                R-=1\n",
    "            if abs(sum-target)<abs(closest-target):\n",
    "                closest=sum          \n",
    "    return closest\n",
    "nums =[4,0,5,-5,3,3,0,-4,-5]\n",
    "target =-2   \n",
    "Closest_3_sum(nums,target)      "
   ]
  },
  {
   "cell_type": "markdown",
   "id": "8626283f-d3dd-4862-81d2-518b7410ba82",
   "metadata": {},
   "source": [
    "# Q2"
   ]
  },
  {
   "cell_type": "markdown",
   "id": "27ccef7d-8130-4e27-b73e-6ee2db8c0413",
   "metadata": {},
   "source": [
    "Given an array nums of n integers, return an array of all the unique quadruplets\n",
    "[nums[a], nums[b], nums[c], nums[d]] such that:\n",
    "           ● 0 <= a, b, c, d < n\n",
    "           ● a, b, c, and d are distinct.\n",
    "           ● nums[a] + nums[b] + nums[c] + nums[d] == target\n",
    "\n",
    "You may return the answer in any order.\n",
    "\n",
    "Example 1:\n",
    "Input: nums = [1,0,-1,0,-2,2], target = 0\n",
    "Output: [[-2,-1,1,2],[-2,0,0,2],[-1,0,0,1]]"
   ]
  },
  {
   "cell_type": "code",
   "execution_count": 2,
   "id": "ea31c2dd-6386-4fee-b451-f9f242ae40d6",
   "metadata": {},
   "outputs": [],
   "source": [
    "\n",
    "    def fourSum(nums, target):\n",
    "        result = []\n",
    "        nums.sort()\n",
    "        n = len(nums)\n",
    "        pairs = {}\n",
    "        for i in range(n):\n",
    "            for j in range(i+1, n):\n",
    "                pair_sum = nums[i] + nums[j]\n",
    "                if pair_sum in pairs:\n",
    "                    pairs[pair_sum].append((i, j))\n",
    "                else:\n",
    "                    pairs[pair_sum] = [(i, j)]\n",
    "        for i in range(n):\n",
    "            for j in range(i+1, n):\n",
    "                req_sum = target - nums[i] - nums[j]\n",
    "                if req_sum in pairs:\n",
    "                    for k, l in pairs[req_sum]:\n",
    "                        if k > j:\n",
    "                            result.append([nums[i], nums[j], nums[k], nums[l]])\n",
    "        return list(set(tuple(sorted(q)) for q in result))"
   ]
  },
  {
   "cell_type": "code",
   "execution_count": 3,
   "id": "38bbdaee-a064-467c-926a-7419b9bf824b",
   "metadata": {},
   "outputs": [
    {
     "data": {
      "text/plain": [
       "[(-2, -1, 1, 2), (-1, 0, 0, 1), (-2, 0, 0, 2)]"
      ]
     },
     "execution_count": 3,
     "metadata": {},
     "output_type": "execute_result"
    }
   ],
   "source": [
    "nums = [1,0,-1,0,-2,2]\n",
    "target = 0\n",
    "fourSum(nums,target)"
   ]
  },
  {
   "cell_type": "markdown",
   "id": "2751eab5-4b2b-4aff-ab48-f975738cd806",
   "metadata": {},
   "source": [
    "# Q3\n"
   ]
  },
  {
   "cell_type": "markdown",
   "id": "171d5a97-5310-424b-b530-73f92ea0c397",
   "metadata": {},
   "source": [
    "<aside>\n",
    "💡 A permutation of an array of integers is an arrangement of its members into a\n",
    "sequence or linear order.\n",
    "\n",
    "For example, for arr = [1,2,3], the following are all the permutations of arr:\n",
    "[1,2,3], [1,3,2], [2, 1, 3], [2, 3, 1], [3,1,2], [3,2,1].\n",
    "\n",
    "The next permutation of an array of integers is the next lexicographically greater\n",
    "permutation of its integer. More formally, if all the permutations of the array are\n",
    "sorted in one container according to their lexicographical order, then the next\n",
    "permutation of that array is the permutation that follows it in the sorted container.\n",
    "\n",
    "If such an arrangement is not possible, the array must be rearranged as the\n",
    "lowest possible order (i.e., sorted in ascending order).\n",
    "\n",
    "● For example, the next permutation of arr = [1,2,3] is [1,3,2].\n",
    "● Similarly, the next permutation of arr = [2,3,1] is [3,1,2].\n",
    "● While the next permutation of arr = [3,2,1] is [1,2,3] because [3,2,1] does not\n",
    "have a lexicographical larger rearrangement.\n",
    "\n",
    "Given an array of integers nums, find the next permutation of nums.\n",
    "The replacement must be in place and use only constant extra memory.\n",
    "\n",
    "**Example 1:**\n",
    "Input: nums = [1,2,3]\n",
    "Output: [1,3,2]\n",
    "\n",
    "</aside>"
   ]
  },
  {
   "cell_type": "code",
   "execution_count": 26,
   "id": "fbebc792-5318-49a0-bac1-756cb3d38e75",
   "metadata": {},
   "outputs": [],
   "source": [
    "def nextPermutation(nums):\n",
    "    n = len(nums)\n",
    "    p1 = n - 2\n",
    "    while p1 >= 0 and nums[p1+1] <= nums[p1]:\n",
    "        p1 -= 1\n",
    "    if p1 >= 0:\n",
    "        p2 = n - 1\n",
    "        while nums[p2] <= nums[p1]:\n",
    "            p2 -= 1\n",
    "        nums[p1], nums[p2] = nums[p2], nums[p1]\n",
    "    left, right = p1 + 1, n - 1\n",
    "    while left < right:\n",
    "        nums[left], nums[right] = nums[right], nums[left]\n",
    "        left += 1\n",
    "        right -= 1\n",
    "        \n"
   ]
  },
  {
   "cell_type": "code",
   "execution_count": 27,
   "id": "ccce58a2-b9dc-4e30-b760-cc7bf5b038de",
   "metadata": {},
   "outputs": [
    {
     "name": "stdout",
     "output_type": "stream",
     "text": [
      "Original List: [1, 2, 3]\n",
      "Next Permutation: [1, 3, 2]\n"
     ]
    }
   ],
   "source": [
    "nums = [1, 2, 3]\n",
    "print(\"Original List:\", nums)\n",
    "nextPermutation(nums)\n",
    "print(\"Next Permutation:\", nums)"
   ]
  },
  {
   "cell_type": "markdown",
   "id": "e82edcce-8b45-4c42-bd38-50b84ada5fd9",
   "metadata": {},
   "source": [
    "# Q4"
   ]
  },
  {
   "cell_type": "markdown",
   "id": "cd3d01a1-41a8-43c1-a352-09bf29104563",
   "metadata": {},
   "source": [
    "Question 4\n",
    "Given a sorted array of distinct integers and a target value, return the index if the\n",
    "target is found. If not, return the index where it would be if it were inserted in\n",
    "order.\n",
    "\n",
    "You must write an algorithm with O(log n) runtime complexity.\n",
    "\n",
    "Example 1:\n",
    "Input: nums = [1,3,5,6], target = 5\n",
    "Output: 2"
   ]
  },
  {
   "cell_type": "code",
   "execution_count": 31,
   "id": "8ecf4799-2a3a-4d23-a3ae-4b5a7a20dfa7",
   "metadata": {},
   "outputs": [
    {
     "data": {
      "text/plain": [
       "1"
      ]
     },
     "execution_count": 31,
     "metadata": {},
     "output_type": "execute_result"
    }
   ],
   "source": [
    "\n",
    "    def searchInsert(nums, target):\n",
    "        left,right=0,len(nums)-1\n",
    "        while(left<=right):\n",
    "            mid=(left+right)//2\n",
    "            if nums[mid]==target:\n",
    "                return mid\n",
    "            elif nums[mid]>target:\n",
    "                right=mid-1\n",
    "            else:\n",
    "                left=mid+1        \n",
    "        return  left \n",
    "nums= nums = [1,3,5,6]\n",
    "target = 2\n",
    "searchInsert(nums,target)  "
   ]
  },
  {
   "cell_type": "markdown",
   "id": "54ac7153-1d71-4249-9eb7-8f6364ec1889",
   "metadata": {},
   "source": [
    "# Q5"
   ]
  },
  {
   "cell_type": "markdown",
   "id": "3fa667ca-9f10-47ef-9f68-2795af01ef7c",
   "metadata": {},
   "source": [
    "You are given a large integer represented as an integer array digits, where each\n",
    "digits[i] is the ith digit of the integer. The digits are ordered from most significant\n",
    "to least significant in left-to-right order. The large integer does not contain any\n",
    "leading 0's.\n",
    "\n",
    "Increment the large integer by one and return the resulting array of digits.\n",
    "\n",
    "Example 1:\n",
    "Input: digits = [1,2,3]\n",
    "Output: [1,2,4]\n"
   ]
  },
  {
   "cell_type": "code",
   "execution_count": 35,
   "id": "31cc5ee8-cf52-4707-8d78-7e1f7618841f",
   "metadata": {},
   "outputs": [
    {
     "data": {
      "text/plain": [
       "[1, 2, 4]"
      ]
     },
     "execution_count": 35,
     "metadata": {},
     "output_type": "execute_result"
    }
   ],
   "source": [
    "def plusOne( digits):\n",
    "    result=[]\n",
    "    number=0\n",
    "    for i in digits:\n",
    "        number=number*10+i\n",
    "        new_num = number+1    \n",
    "    for i in str(new_num):\n",
    "            result.append(int(i))\n",
    "    return result \n",
    "digits = [1,2,3] \n",
    "plusOne(digits)"
   ]
  },
  {
   "cell_type": "markdown",
   "id": "44baa077-2c97-45bc-9918-69bf09c1db58",
   "metadata": {},
   "source": [
    "# Q6"
   ]
  },
  {
   "cell_type": "markdown",
   "id": "6e8a2aad-88b2-48fd-a52f-09f8b6083f95",
   "metadata": {},
   "source": [
    "Given a non-empty array of integers nums, every element appears twice except\n",
    "for one. Find that single one.\n",
    "\n",
    "You must implement a solution with a linear runtime complexity and use only\n",
    "constant extra space.\n"
   ]
  },
  {
   "cell_type": "code",
   "execution_count": 40,
   "id": "4958e52d-f26e-4b9b-be81-02ba4d750ae5",
   "metadata": {},
   "outputs": [
    {
     "data": {
      "text/plain": [
       "4"
      ]
     },
     "execution_count": 40,
     "metadata": {},
     "output_type": "execute_result"
    }
   ],
   "source": [
    "    from collections import Counter\n",
    "    def singleNumber(nums):\n",
    "        freq=Counter(nums)\n",
    "        for key in freq:\n",
    "            if freq[key]==1:\n",
    "                return key\n",
    "nums=[1,2,2,4,7,3,7,3,1]  \n",
    "singleNumber(nums)"
   ]
  },
  {
   "cell_type": "markdown",
   "id": "be8965e4-6e1d-4dbf-9b56-51ee94221346",
   "metadata": {},
   "source": [
    "# Q7"
   ]
  },
  {
   "cell_type": "markdown",
   "id": "79a881df-da28-469b-996d-43311a6a828d",
   "metadata": {},
   "source": [
    "You are given an inclusive range [lower, upper] and a sorted unique integer array\n",
    "nums, where all elements are within the inclusive range.\n",
    "\n",
    "A number x is considered missing if x is in the range [lower, upper] and x is not in\n",
    "nums.\n",
    "\n",
    "Return the shortest sorted list of ranges that exactly covers all the missing\n",
    "numbers. That is, no element of nums is included in any of the ranges, and each\n",
    "missing number is covered by one of the ranges.\n",
    "\n",
    "Example 1:\n",
    "Input: nums = [0,1,3,50,75], lower = 0, upper = 99\n",
    "Output: [[2,2],[4,49],[51,74],[76,99]]\n",
    "\n",
    "Explanation: The ranges are:\n",
    "[2,2]\n",
    "[4,49]\n",
    "[51,74]\n",
    "[76,99]"
   ]
  },
  {
   "cell_type": "code",
   "execution_count": 19,
   "id": "fd10fe97-8778-4536-9c4f-654c4cd6ae49",
   "metadata": {},
   "outputs": [
    {
     "data": {
      "text/plain": [
       "[[2, 2], [4, 49], [51, 74], [76, 99]]"
      ]
     },
     "execution_count": 19,
     "metadata": {},
     "output_type": "execute_result"
    }
   ],
   "source": [
    "def MissingRange(nums,lower,upper):\n",
    "    result=[]\n",
    "    curr=lower\n",
    "    if nums[0]>lower:\n",
    "        result.append([lower+1,nums[0]-1])\n",
    "    for i in range(1,len(nums)):\n",
    "        if nums[i]==curr+1:\n",
    "            curr=nums[i]\n",
    "        elif nums[i]>curr+1:\n",
    "            result.append([curr+1,nums[i]-1])\n",
    "            curr=nums[i]\n",
    "            \n",
    "            \n",
    "    if nums[-1]<upper:\n",
    "        result.append([nums[-1]+1,upper])\n",
    "    return result        \n",
    "            \n",
    "            \n",
    "            \n",
    "nums = [0,1,3,50,75]\n",
    "lower = 0\n",
    "upper = 99 \n",
    "MissingRange(nums,lower,upper)"
   ]
  },
  {
   "cell_type": "markdown",
   "id": "025d33cd-58ec-4c80-95ec-083a6c28c0fe",
   "metadata": {},
   "source": [
    "# Q8"
   ]
  },
  {
   "cell_type": "markdown",
   "id": "bd93ae33-992d-49ce-b911-c24bb474880d",
   "metadata": {},
   "source": [
    "<aside>\n",
    "💡 Given an array of meeting time intervals where intervals[i] = [starti, endi],\n",
    "determine if a person could attend all meetings.\n",
    "\n",
    "**Example 1:**\n",
    "Input: intervals = [[0,30],[5,10],[15,20]]\n",
    "Output: false\n",
    "\n",
    "</aside>"
   ]
  },
  {
   "cell_type": "code",
   "execution_count": 50,
   "id": "3673b372-3944-41f9-ac53-1f92c509286b",
   "metadata": {},
   "outputs": [
    {
     "name": "stdout",
     "output_type": "stream",
     "text": [
      "True\n"
     ]
    }
   ],
   "source": [
    "def canAttendMeetings(intervals):\n",
    "    intervals.sort(key=lambda a: a[0])\n",
    "    for i in range(len(intervals)-1):\n",
    "        if intervals[i][1] > intervals[i+1][0]:\n",
    "            return False\n",
    "    return True\n",
    "intervals=[[4,6],[7,10]]\n",
    "print(canAttendMeetings(intervals))"
   ]
  },
  {
   "cell_type": "code",
   "execution_count": null,
   "id": "5698a68f-3ea7-40dd-808b-8509cfd9991b",
   "metadata": {},
   "outputs": [],
   "source": []
  },
  {
   "cell_type": "code",
   "execution_count": null,
   "id": "0d086df9-e78a-41c7-877e-a8f1bc8db673",
   "metadata": {},
   "outputs": [],
   "source": []
  },
  {
   "cell_type": "code",
   "execution_count": null,
   "id": "26272c74-7fe0-4059-ba6d-1c97dd3aad7e",
   "metadata": {},
   "outputs": [],
   "source": []
  }
 ],
 "metadata": {
  "kernelspec": {
   "display_name": "Python 3 (ipykernel)",
   "language": "python",
   "name": "python3"
  },
  "language_info": {
   "codemirror_mode": {
    "name": "ipython",
    "version": 3
   },
   "file_extension": ".py",
   "mimetype": "text/x-python",
   "name": "python",
   "nbconvert_exporter": "python",
   "pygments_lexer": "ipython3",
   "version": "3.10.8"
  }
 },
 "nbformat": 4,
 "nbformat_minor": 5
}
