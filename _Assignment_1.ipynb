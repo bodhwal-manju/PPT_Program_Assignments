{
 "cells": [
  {
   "cell_type": "markdown",
   "id": "b83f74a7-11e0-4acc-b0bf-7416597e61f7",
   "metadata": {},
   "source": [
    "# Q1"
   ]
  },
  {
   "cell_type": "markdown",
   "id": "47d1ac1a-0624-4317-90b1-6c2c2c37e4e0",
   "metadata": {},
   "source": [
    "<aside>\n",
    "Q1.Given an array of integers nums and an integer target, return indices of the two numbers such that they add up to target.\n",
    "\n",
    "You may assume that each input would have exactly one solution, and you may not use the same element twice.\n",
    "\n",
    "You can return the answer in any order.\n",
    "\n",
    "Example:\n",
    "Input: nums = [2,7,11,15], target = 9\n",
    "Output0 [0,1]\n",
    "\n",
    "Explanation: Because nums[0] + nums[1] == 9, we return [0, 1][\n",
    "\n",
    "</aside>"
   ]
  },
  {
   "cell_type": "code",
   "execution_count": 6,
   "id": "6338c0f4-bc61-42c7-bf23-f507588a1769",
   "metadata": {},
   "outputs": [
    {
     "data": {
      "text/plain": [
       "[4, 2]"
      ]
     },
     "execution_count": 6,
     "metadata": {},
     "output_type": "execute_result"
    }
   ],
   "source": [
    "def TwoSum(nums,target):\n",
    "    dict_seen_values={}\n",
    "    for idx,value in enumerate(nums):\n",
    "        required_number = target-value\n",
    "        if required_number in dict_seen_values:\n",
    "            return [idx,dict_seen_values[required_number]]\n",
    "        else:\n",
    "            dict_seen_values[value]=idx\n",
    "nums = [1, 2, 3, 5, 6, 7]\n",
    "target = 9\n",
    "TwoSum(nums, target)            "
   ]
  },
  {
   "cell_type": "markdown",
   "id": "3f26edea-50d9-44bf-a73d-706d44a4429e",
   "metadata": {},
   "source": [
    "# Q2"
   ]
  },
  {
   "cell_type": "markdown",
   "id": "9520d7be-6b32-4147-98ba-e174bc66192b",
   "metadata": {},
   "source": [
    "<aside>\n",
    "Q2.Given an integer array nums and an integer val, remove all occurrences of val in nums in-place. The order of the elements may be changed. Then return the number of elements in nums which are not equal to val.\n",
    "\n",
    "Consider the number of elements in nums which are not equal to val be k, to get accepted, you need to do the following things:\n",
    "\n",
    "- Change the array nums such that the first k elements of nums contain the elements which are not equal to val. The remaining elements of nums are not important as well as the size of nums.\n",
    "- Return k.\n",
    "\n",
    "Example :\n",
    "Input: nums = [3,2,2,3], val = 3\n",
    "Output: 2, nums = [2,2,_*,_*]\n",
    "\n",
    "Explanation:Your function should return k = 2, with the first two elements of nums being 2. It does not matter what you leave beyond the returned k (hence they are underscores)\n",
    "\n",
    "</aside>"
   ]
  },
  {
   "cell_type": "code",
   "execution_count": null,
   "id": "c6c00aa1-7618-498b-96f6-749168a29f8b",
   "metadata": {},
   "outputs": [],
   "source": [
    "def removeElement(nums, val):\n",
    "    result=[]\n",
    "    for i in range(len(nums)):\n",
    "            if nums[i]!=val:\n",
    "                result.append(nums[i]) \n",
    "        nums[:]=result          \n",
    "        return len(nums)"
   ]
  },
  {
   "cell_type": "markdown",
   "id": "2df3526b-c1bf-4742-92e9-4d32b9a2f8a4",
   "metadata": {},
   "source": [
    "# Q3"
   ]
  },
  {
   "cell_type": "markdown",
   "id": "11482098-771f-46de-bf4f-af2e5139635a",
   "metadata": {},
   "source": [
    "\n",
    "<aside>\n",
    "💡 **Q3.** Given a sorted array of distinct integers and a target value, return the index if the target is found. If not, return the index where it would be if it were inserted in order.\n",
    "\n",
    "You must write an algorithm with O(log n) runtime complexity.\n",
    "\n",
    "**Example 1:**\n",
    "Input: nums = [1,3,5,6], target = 5\n",
    "\n",
    "Output: 2\n",
    "\n",
    "</aside>"
   ]
  },
  {
   "cell_type": "code",
   "execution_count": 7,
   "id": "25f49432-456e-4762-b535-90ec2d800937",
   "metadata": {},
   "outputs": [
    {
     "data": {
      "text/plain": [
       "1"
      ]
     },
     "execution_count": 7,
     "metadata": {},
     "output_type": "execute_result"
    }
   ],
   "source": [
    "\n",
    "    def searchInsert( nums, target) -> int:\n",
    "        left,right=0,len(nums)-1\n",
    "        while(left<=right):\n",
    "            mid=(left+right)//2\n",
    "            if nums[mid]==target:\n",
    "                return mid\n",
    "            elif nums[mid]>target:\n",
    "                right=mid-1\n",
    "            else:\n",
    "                left=mid+1        \n",
    "        return  left  \n",
    "nums = [1,3,5,6]\n",
    "target = 2 \n",
    "searchInsert(nums,target)"
   ]
  },
  {
   "cell_type": "markdown",
   "id": "8bece15e-71fc-48fe-b8b8-ad9d493f4e1c",
   "metadata": {},
   "source": [
    "# Q4"
   ]
  },
  {
   "cell_type": "markdown",
   "id": "9a9770b2-39a2-4c0d-8746-77c47525592f",
   "metadata": {},
   "source": [
    "<aside>\n",
    " You are given a large integer represented as an integer array digits, where each digits[i] is the ith digit of the integer. The digits are ordered from most significant to least significant in left-to-right order. The large integer does not contain any leading 0's.\n",
    "\n",
    "Increment the large integer by one and return the resulting array of digits.\n",
    "\n",
    "**Example 1:**\n",
    "Input: digits = [1,2,3]\n",
    "Output: [1,2,4]\n",
    "\n",
    "**Explanation:** The array represents the integer 123.\n",
    "\n",
    "Incrementing by one gives 123 + 1 = 124.\n",
    "Thus, the result should be [1,2,4].\n",
    "\n",
    "</aside>"
   ]
  },
  {
   "cell_type": "code",
   "execution_count": 8,
   "id": "3cdd2b56-662c-4d2f-b4c2-7a032465b82b",
   "metadata": {},
   "outputs": [
    {
     "data": {
      "text/plain": [
       "[1, 2, 4, 0]"
      ]
     },
     "execution_count": 8,
     "metadata": {},
     "output_type": "execute_result"
    }
   ],
   "source": [
    "def Plus_One(digits):\n",
    "    number=0\n",
    "    result=[]\n",
    "    for i in digits:\n",
    "        number=number*10+i\n",
    "    new_num=number+1\n",
    "    for i in str(new_num):\n",
    "        result.append(int(i))\n",
    "    return result  \n",
    "digits = [1,2,3,9]\n",
    "Plus_One(digits)"
   ]
  },
  {
   "cell_type": "markdown",
   "id": "01fa6659-aa52-4a74-994a-d042a158d85f",
   "metadata": {},
   "source": [
    "# Q5"
   ]
  },
  {
   "cell_type": "markdown",
   "id": "679e7a1b-8893-4bcb-929d-492b4d772862",
   "metadata": {},
   "source": [
    "<aside>\n",
    "💡 **Q5.** You are given two integer arrays nums1 and nums2, sorted in non-decreasing order, and two integers m and n, representing the number of elements in nums1 and nums2 respectively.\n",
    "\n",
    "Merge nums1 and nums2 into a single array sorted in non-decreasing order.\n",
    "\n",
    "The final sorted array should not be returned by the function, but instead be stored inside the array nums1. To accommodate this, nums1 has a length of m + n, where the first m elements denote the elements that should be merged, and the last n elements are set to 0 and should be ignored. nums2 has a length of n.\n",
    "\n",
    "**Example 1:**\n",
    "Input: nums1 = [1,2,3,0,0,0], m = 3, nums2 = [2,5,6], n = 3\n",
    "Output: [1,2,2,3,5,6]\n",
    "\n",
    "**Explanation:** The arrays we are merging are [1,2,3] and [2,5,6].\n",
    "The result of the merge is [1,2,2,3,5,6] with the underlined elements coming from nums1.\n",
    "\n",
    "</aside>"
   ]
  },
  {
   "cell_type": "code",
   "execution_count": 9,
   "id": "b9c6b975-4602-4aa3-8a86-78ab97049c3b",
   "metadata": {},
   "outputs": [
    {
     "name": "stdout",
     "output_type": "stream",
     "text": [
      "[1, 1, 2, 3, 4, 7, 7, 8, 9, 9]\n"
     ]
    }
   ],
   "source": [
    "def merge_Sorted_Array(nums1,nums2):\n",
    "    left1=0\n",
    "    left2=0\n",
    "    result=[]\n",
    "    m,n= len(nums1),len(nums2)\n",
    "    while(left1<m and left2<n):\n",
    "        if nums1[left1]<nums2[left2]:\n",
    "            result.append(nums1[left1])\n",
    "            left1+=1\n",
    "        else:\n",
    "            result.append(nums2[left2])\n",
    "            left2+=1\n",
    "    while left1<m:\n",
    "        result.append(nums1[left1])\n",
    "        left1+=1\n",
    "    while left2<n:\n",
    "        result.append(nums2[left2])\n",
    "        left2+=left2\n",
    "    nums1[:]=result\n",
    "    return result\n",
    "nums1=[1,2,3,7,8,9]\n",
    "nums2=[1,4,7,9]\n",
    "print(merge_Sorted_Array(nums1,nums2))"
   ]
  },
  {
   "cell_type": "markdown",
   "id": "b15a4d65-4470-48d9-b81a-9863f496b8bc",
   "metadata": {},
   "source": [
    "# Q6"
   ]
  },
  {
   "cell_type": "markdown",
   "id": "d96f4808-82e5-4c52-bd65-0e1d674475b4",
   "metadata": {},
   "source": [
    "<aside>\n",
    "💡 **Q6.** Given an integer array nums, return true if any value appears at least twice in the array, and return false if every element is distinct.\n",
    "\n",
    "**Example 1:**\n",
    "Input: nums = [1,2,3,1]\n",
    "\n",
    "Output: true\n",
    "\n",
    "</aside>"
   ]
  },
  {
   "cell_type": "code",
   "execution_count": 10,
   "id": "4c0d34fc-220b-4095-84cc-d3b273cf63eb",
   "metadata": {},
   "outputs": [
    {
     "data": {
      "text/plain": [
       "True"
      ]
     },
     "execution_count": 10,
     "metadata": {},
     "output_type": "execute_result"
    }
   ],
   "source": [
    "def Contains_Duplicate(nums):\n",
    "    result=set()\n",
    "    for i in nums:\n",
    "        if i in result:\n",
    "            return True\n",
    "        else:\n",
    "            result.add(i)  \n",
    "                \n",
    "nums=[1,2,3,4,1]\n",
    "Contains_Duplicate(nums)"
   ]
  },
  {
   "cell_type": "markdown",
   "id": "ab09c47c-1a7e-4331-bf93-53d39afcf215",
   "metadata": {},
   "source": [
    "# Q7"
   ]
  },
  {
   "cell_type": "markdown",
   "id": "b99df13f-e2b4-4108-a086-9bde1427597e",
   "metadata": {},
   "source": [
    "<aside>\n",
    "💡 **Q7.** Given an integer array nums, move all 0's to the end of it while maintaining the relative order of the nonzero elements.\n",
    "\n",
    "Note that you must do this in-place without making a copy of the array.\n",
    "\n",
    "**Example 1:**\n",
    "Input: nums = [0,1,0,3,12]\n",
    "Output: [1,3,12,0,0]\n",
    "\n",
    "</aside>"
   ]
  },
  {
   "cell_type": "code",
   "execution_count": 11,
   "id": "a0ad14bd-725c-4fe8-aa56-9ac30780d9be",
   "metadata": {},
   "outputs": [
    {
     "name": "stdout",
     "output_type": "stream",
     "text": [
      "[1, 3, 12, 0, 0]\n"
     ]
    }
   ],
   "source": [
    "def moveZeroes(nums):\n",
    "    result=[]\n",
    "    left=0\n",
    "    n=len(nums)\n",
    "    while left<n:\n",
    "        if nums[left] !=0:\n",
    "            result.append(nums[left])\n",
    "        left+=1\n",
    "    m=len(result)        \n",
    "    while m<n:\n",
    "        result.append(0)\n",
    "        m+=1\n",
    "    nums[:]=result\n",
    "\n",
    "nums=[0,1,0,3,12]\n",
    "moveZeroes(nums)\n",
    "print(nums)"
   ]
  },
  {
   "cell_type": "markdown",
   "id": "f729acbc-7c7e-4d61-871f-43a813653bf4",
   "metadata": {},
   "source": [
    "# Q8"
   ]
  },
  {
   "cell_type": "markdown",
   "id": "3177f3cb-a7e5-4fbe-af26-a97a41d35a86",
   "metadata": {},
   "source": [
    "Q8. You have a set of integers s, which originally contains all the numbers from 1 to n. Unfortunately, due to some error, one of the numbers in s got duplicated to another number in the set, which results in repetition of one number and loss of another number.\n",
    "You are given an integer array nums representing the data status of this set after the error.\n",
    "Find the number that occurs twice and the number that is missing and return them in the form of an array.\n",
    "Example 1:\n",
    "Input: nums = [1,2,2,4]\n",
    "Output: [2,3]"
   ]
  },
  {
   "cell_type": "code",
   "execution_count": 12,
   "id": "93a9ef4d-2b8c-45d9-b4be-9eb0e29c71e9",
   "metadata": {},
   "outputs": [
    {
     "data": {
      "text/plain": [
       "[2, 5]"
      ]
     },
     "execution_count": 12,
     "metadata": {},
     "output_type": "execute_result"
    }
   ],
   "source": [
    "from collections import Counter\n",
    "def findErrorNums(nums):\n",
    "    result=Counter(nums)\n",
    "    n=len(nums)\n",
    "    for i in range(1,n+1):\n",
    "        if i not in result:\n",
    "            missing_value=i\n",
    "        if result[i]>1:\n",
    "            duplicate_value=i\n",
    "    return [duplicate_value,missing_value]\n",
    "nums=[1,2,2,3,4]\n",
    "findErrorNums(nums)"
   ]
  },
  {
   "cell_type": "code",
   "execution_count": null,
   "id": "d0e12e04-3410-4f27-b856-f850ab280299",
   "metadata": {},
   "outputs": [],
   "source": []
  },
  {
   "cell_type": "code",
   "execution_count": null,
   "id": "695deed4-b8c8-4d12-a0a5-7c4a42d5e1dc",
   "metadata": {},
   "outputs": [],
   "source": []
  },
  {
   "cell_type": "code",
   "execution_count": null,
   "id": "2e1811db-2a73-45ee-ac8b-87acc1536ae9",
   "metadata": {},
   "outputs": [],
   "source": []
  },
  {
   "cell_type": "code",
   "execution_count": null,
   "id": "8787cabe-d12c-44fe-9c25-df2ee2f63470",
   "metadata": {},
   "outputs": [],
   "source": []
  },
  {
   "cell_type": "code",
   "execution_count": null,
   "id": "0e025d9e-96ea-408b-b497-1ea450cb0742",
   "metadata": {},
   "outputs": [],
   "source": []
  },
  {
   "cell_type": "code",
   "execution_count": null,
   "id": "602b84d4-785a-4c9b-8a95-d2b01be1f869",
   "metadata": {},
   "outputs": [],
   "source": []
  },
  {
   "cell_type": "code",
   "execution_count": null,
   "id": "0beb6771-7372-47bc-9460-bbf2feba42f2",
   "metadata": {},
   "outputs": [],
   "source": []
  },
  {
   "cell_type": "code",
   "execution_count": null,
   "id": "d6e0ac44-b928-4b6f-a114-453a6929fb28",
   "metadata": {},
   "outputs": [],
   "source": []
  },
  {
   "cell_type": "code",
   "execution_count": null,
   "id": "d031d43a-d2dd-4db5-a4be-cf3702b30ce3",
   "metadata": {},
   "outputs": [],
   "source": []
  },
  {
   "cell_type": "code",
   "execution_count": null,
   "id": "17cc377e-3620-4d01-9681-0215434b7610",
   "metadata": {},
   "outputs": [],
   "source": []
  },
  {
   "cell_type": "code",
   "execution_count": null,
   "id": "cc4a46b8-8c05-45d2-9839-75e30c5cf56c",
   "metadata": {},
   "outputs": [],
   "source": []
  }
 ],
 "metadata": {
  "kernelspec": {
   "display_name": "Python 3 (ipykernel)",
   "language": "python",
   "name": "python3"
  },
  "language_info": {
   "codemirror_mode": {
    "name": "ipython",
    "version": 3
   },
   "file_extension": ".py",
   "mimetype": "text/x-python",
   "name": "python",
   "nbconvert_exporter": "python",
   "pygments_lexer": "ipython3",
   "version": "3.10.8"
  }
 },
 "nbformat": 4,
 "nbformat_minor": 5
}
