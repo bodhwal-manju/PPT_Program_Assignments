{
 "cells": [
  {
   "cell_type": "markdown",
   "id": "1fb64df9-e091-4121-acb8-4c306d0fc522",
   "metadata": {},
   "source": [
    "# Q1"
   ]
  },
  {
   "cell_type": "markdown",
   "id": "f2ec8114-b460-4bf0-a9f6-f046a67f2e34",
   "metadata": {},
   "source": [
    "<aside>\n",
    "💡 **Question 1**\n",
    "Given an integer array nums of 2n integers, group these integers into n pairs (a1, b1), (a2, b2),..., (an, bn) such that the sum of min(ai, bi) for all i is maximized. Return the maximized sum.\n",
    "\n",
    "**Example 1:**\n",
    "Input: nums = [1,4,3,2]\n",
    "Output: 4\n",
    "\n",
    "**Explanation:** All possible pairings (ignoring the ordering of elements) are:\n",
    "\n",
    "1. (1, 4), (2, 3) -> min(1, 4) + min(2, 3) = 1 + 2 = 3\n",
    "2. (1, 3), (2, 4) -> min(1, 3) + min(2, 4) = 1 + 2 = 3\n",
    "3. (1, 2), (3, 4) -> min(1, 2) + min(3, 4) = 1 + 3 = 4\n",
    "So the maximum possible sum is 4\n",
    "</aside>"
   ]
  },
  {
   "cell_type": "code",
   "execution_count": 1,
   "id": "1e0a3324-69cb-4286-93b9-c8d9c188c774",
   "metadata": {},
   "outputs": [
    {
     "data": {
      "text/plain": [
       "4"
      ]
     },
     "execution_count": 1,
     "metadata": {},
     "output_type": "execute_result"
    }
   ],
   "source": [
    "def ArrayPairSum(nums):\n",
    "    nums.sort()\n",
    "    max_sum=0\n",
    "    for i in range(0,len(nums),2):\n",
    "        max_sum+=nums[i]\n",
    "    return max_sum\n",
    "nums=[1,4,3,2]\n",
    "ArrayPairSum(nums)"
   ]
  },
  {
   "cell_type": "markdown",
   "id": "5e2280d2-9579-4216-8d92-1494f22ded02",
   "metadata": {},
   "source": [
    "# Q2"
   ]
  },
  {
   "cell_type": "markdown",
   "id": "849ebf37-e9b7-471e-85a3-874b308b0053",
   "metadata": {},
   "source": [
    "Question 2\n",
    "Alice has n candies, where the ith candy is of type candyType[i]. Alice noticed that she started to gain weight, so she visited a doctor. \n",
    "\n",
    "The doctor advised Alice to only eat n / 2 of the candies she has (n is always even). Alice likes her candies very much, and she wants to eat the maximum number of different types of candies while still following the doctor's advice. \n",
    "\n",
    "Given the integer array candyType of length n, return the maximum number of different types of candies she can eat if she only eats n / 2 of them.\n",
    "\n",
    "Example 1:\n",
    "Input: candyType = [1,1,2,2,3,3]\n",
    "Output: 3\n",
    "\n",
    "Explanation: Alice can only eat 6 / 2 = 3 candies. Since there are only 3 types, she can eat one of each type."
   ]
  },
  {
   "cell_type": "code",
   "execution_count": 2,
   "id": "e4a8c0ca-c739-4282-9777-042d1792aa67",
   "metadata": {},
   "outputs": [
    {
     "data": {
      "text/plain": [
       "3"
      ]
     },
     "execution_count": 2,
     "metadata": {},
     "output_type": "execute_result"
    }
   ],
   "source": [
    "def distributeCandies(candyType):\n",
    "    max_candies_alice=len(candyType)//2\n",
    "    type_candies=set(candyType)\n",
    "    n=len(type_candies)\n",
    "    if n>max_candies_alice:\n",
    "        return max_candies_alice\n",
    "    else:\n",
    "        return n   \n",
    "candyType=[1,1,2,2,3,3]\n",
    "distributeCandies(candyType)"
   ]
  },
  {
   "cell_type": "markdown",
   "id": "3937d1d3-e50e-4c13-99f5-9423cd1db6a2",
   "metadata": {},
   "source": [
    "# Q3"
   ]
  },
  {
   "cell_type": "markdown",
   "id": "3072dd8f-22bf-4613-a287-66e1fe4d6b3a",
   "metadata": {},
   "source": [
    "\n",
    "We define a harmonious array as an array where the difference between its maximum value\n",
    "and its minimum value is exactly 1.\n",
    "\n",
    "Given an integer array nums, return the length of its longest harmonious subsequence\n",
    "among all its possible subsequences.\n",
    "\n",
    "A subsequence of an array is a sequence that can be derived from the array by deleting some or no elements without changing the order of the remaining elements.\n",
    "\n",
    "Example 1:\n",
    "Input: nums = [1,3,2,2,5,2,3,7]\n",
    "Output: 5\n"
   ]
  },
  {
   "cell_type": "code",
   "execution_count": 9,
   "id": "6b2d2f6e-602b-42d4-93f8-03b515345076",
   "metadata": {},
   "outputs": [
    {
     "data": {
      "text/plain": [
       "5"
      ]
     },
     "execution_count": 9,
     "metadata": {},
     "output_type": "execute_result"
    }
   ],
   "source": [
    "from collections import Counter\n",
    "def findLHS(nums):\n",
    "    freq=Counter(nums)\n",
    "    max_length=0\n",
    "    for key in freq:\n",
    "        if key+1 in freq:\n",
    "            max_length=max(max_length,freq[key]+freq[key+1])\n",
    "    return max_length       \n",
    "            \n",
    "nums= [1,3,2,2,5,2,3,7] \n",
    "findLHS(nums)"
   ]
  },
  {
   "cell_type": "markdown",
   "id": "3772f781-9330-416a-8f6d-e6bcd534ed6c",
   "metadata": {},
   "source": [
    "# Q4"
   ]
  },
  {
   "cell_type": "markdown",
   "id": "6a619643-f1ab-4007-a0a1-73c6b2f89c2a",
   "metadata": {},
   "source": [
    "Question 4\n",
    "You have a long flowerbed in which some of the plots are planted, and some are not.\n",
    "However, flowers cannot be planted in adjacent plots.\n",
    "Given an integer array flowerbed containing 0's and 1's, where 0 means empty and 1 means not empty, and an integer n, return true if n new flowers can be planted in the flowerbed without violating the no-adjacent-flowers rule and false otherwise.\n",
    "\n",
    "Example 1:\n",
    "Input: flowerbed = [1,0,0,0,1], n = 1\n",
    "Output: true"
   ]
  },
  {
   "cell_type": "code",
   "execution_count": 5,
   "id": "ebd95af3-cc61-4361-a3e9-dd9b4b8f995d",
   "metadata": {},
   "outputs": [
    {
     "data": {
      "text/plain": [
       "True"
      ]
     },
     "execution_count": 5,
     "metadata": {},
     "output_type": "execute_result"
    }
   ],
   "source": [
    "def canPlaceFlower(flowerbed,n):\n",
    "    count=0\n",
    "    for i in range(0,len(flowerbed)):\n",
    "        if flowerbed[i] == 0:\n",
    "            if i==0 or flowerbed[i-1]==0:\n",
    "                if i==len(flowerbed)-1 or flowerbed[i+1]==0:\n",
    "                    count+=1\n",
    "    return count>=n  \n",
    "flowerbed=[1,0,0,0,1]\n",
    "n=1\n",
    "canPlaceFlower(flowerbed,n)"
   ]
  },
  {
   "cell_type": "markdown",
   "id": "ec55c01e-68a6-42b1-bfeb-2282e0ab2a08",
   "metadata": {},
   "source": [
    "# Q5"
   ]
  },
  {
   "cell_type": "markdown",
   "id": "abb8a894-73cd-4a84-a4f7-b73a87defc60",
   "metadata": {},
   "source": [
    "Question 5\n",
    "Given an integer array nums, find three numbers whose product is maximum and return the maximum product.\n",
    "\n",
    "Example 1:\n",
    "Input: nums = [1,2,3]\n",
    "Output: 6"
   ]
  },
  {
   "cell_type": "code",
   "execution_count": 11,
   "id": "9e30c517-f61e-4313-8fe5-332b5822a686",
   "metadata": {},
   "outputs": [
    {
     "data": {
      "text/plain": [
       "39200"
      ]
     },
     "execution_count": 11,
     "metadata": {},
     "output_type": "execute_result"
    }
   ],
   "source": [
    "def maximumProduct( nums):\n",
    "    nums.sort()\n",
    "    max_prod=max(nums[0]*nums[1]*nums[-1],nums[-3]*nums[-2]*nums[-1])\n",
    "    return max_prod\n",
    "nums=[-100, -98, -1, 2, 3, 4]\n",
    "maximumProduct(nums)"
   ]
  },
  {
   "cell_type": "markdown",
   "id": "a0295f19-0aa6-430c-81de-e22a27aaf07e",
   "metadata": {},
   "source": [
    "# Q6\n"
   ]
  },
  {
   "cell_type": "markdown",
   "id": "12a378cb-24ef-434e-982e-10441f58a5f8",
   "metadata": {},
   "source": [
    "Question 6\n",
    "Given an array of integers nums which is sorted in ascending order, and an integer target,\n",
    "write a function to search target in nums. If target exists, then return its index. Otherwise,\n",
    "return -1.\n",
    "\n",
    "You must write an algorithm with O(log n) runtime complexity.\n",
    "\n",
    "Input: nums = [-1,0,3,5,9,12], target = 9\n",
    "Output: 4\n"
   ]
  },
  {
   "cell_type": "code",
   "execution_count": 12,
   "id": "f0b76be6-742d-4b45-b3cf-1c12e0c45e5b",
   "metadata": {},
   "outputs": [
    {
     "data": {
      "text/plain": [
       "4"
      ]
     },
     "execution_count": 12,
     "metadata": {},
     "output_type": "execute_result"
    }
   ],
   "source": [
    "def search(nums, target):\n",
    "    left=0\n",
    "    right=len(nums)-1\n",
    "    while(left<=right):\n",
    "        mid=(left+right)//2\n",
    "        if nums[mid]==target:\n",
    "            return mid\n",
    "        elif nums[mid]<target:\n",
    "            left=mid+1\n",
    "        else:\n",
    "            right=mid-1\n",
    "\n",
    "    return -1 \n",
    "nums=[-1,0,3,5,9,12]\n",
    "target=9\n",
    "search(nums,target)"
   ]
  },
  {
   "cell_type": "markdown",
   "id": "ee1de19b-8668-408a-8b47-7c47c0bb56f5",
   "metadata": {},
   "source": [
    "# Q7"
   ]
  },
  {
   "cell_type": "markdown",
   "id": "19a5c7d5-3ad1-478d-84ea-b011a52dac8d",
   "metadata": {},
   "source": [
    "Question 7\n",
    "An array is monotonic if it is either monotone increasing or monotone decreasing.\n",
    "\n",
    "An array nums is monotone increasing if for all i <= j, nums[i] <= nums[j]. An array nums is\n",
    "monotone decreasing if for all i <= j, nums[i] >= nums[j].\n",
    "\n",
    "Given an integer array nums, return true if the given array is monotonic, or false otherwise.\n",
    "\n",
    "Example 1:\n",
    "Input: nums = [1,2,2,3]\n",
    "Output: true"
   ]
  },
  {
   "cell_type": "code",
   "execution_count": 21,
   "id": "197bd45b-ded6-4f5e-8971-6a470fbb1012",
   "metadata": {},
   "outputs": [
    {
     "data": {
      "text/plain": [
       "True"
      ]
     },
     "execution_count": 21,
     "metadata": {},
     "output_type": "execute_result"
    }
   ],
   "source": [
    "def Ismonotonic(nums):\n",
    "    increase=Decrease=True\n",
    "    for i in range(len(nums)-1):\n",
    "        if nums[i]>nums[i+1]:\n",
    "            increase=False\n",
    "        if nums[i]<nums[i+1]:\n",
    "            decrease=False\n",
    "    return  increase or decrease\n",
    "nums = [1,2,2,3] \n",
    "Ismonotonic(nums)"
   ]
  },
  {
   "cell_type": "markdown",
   "id": "9ea5fb53-9ad6-48a5-9541-0244bb7446ef",
   "metadata": {},
   "source": [
    "# Q8"
   ]
  },
  {
   "cell_type": "markdown",
   "id": "41a0445e-50c7-49fe-95c3-9149014c0af2",
   "metadata": {},
   "source": [
    "Question 8\n",
    "You are given an integer array nums and an integer k.\n",
    "\n",
    "In one operation, you can choose any index i where 0 <= i < nums.length and change nums[i] to nums[i] + x where x is an integer from the range [-k, k]. You can apply this operation at most once for each index i.\n",
    "\n",
    "The score of nums is the difference between the maximum and minimum elements in nums.\n",
    "\n",
    "Return the minimum score of nums after applying the mentioned operation at most once for each index in it.\n",
    "\n",
    "Example 1:\n",
    "Input: nums = [1], k = 0\n",
    "Output: 0\n",
    "\n",
    "Explanation: The score is max(nums) - min(nums) = 1 - 1 = 0."
   ]
  },
  {
   "cell_type": "code",
   "execution_count": 10,
   "id": "4fe9e4aa-9ee2-440c-8cf3-95c6c73eca6c",
   "metadata": {},
   "outputs": [
    {
     "data": {
      "text/plain": [
       "6"
      ]
     },
     "execution_count": 10,
     "metadata": {},
     "output_type": "execute_result"
    }
   ],
   "source": [
    "def smallestRangeI(nums, k):\n",
    "        return max(0,max(nums)-min(nums)-2*k)\n",
    "\n",
    "nums=[0,10]\n",
    "k=2\n",
    "smallestRangeI(nums,k)\n",
    "        "
   ]
  },
  {
   "cell_type": "code",
   "execution_count": null,
   "id": "74dfd501-3475-4f1d-9eaa-f1059541d816",
   "metadata": {},
   "outputs": [],
   "source": []
  },
  {
   "cell_type": "code",
   "execution_count": null,
   "id": "3947486a-f5aa-4886-a456-39411adda544",
   "metadata": {},
   "outputs": [],
   "source": []
  }
 ],
 "metadata": {
  "kernelspec": {
   "display_name": "Python 3 (ipykernel)",
   "language": "python",
   "name": "python3"
  },
  "language_info": {
   "codemirror_mode": {
    "name": "ipython",
    "version": 3
   },
   "file_extension": ".py",
   "mimetype": "text/x-python",
   "name": "python",
   "nbconvert_exporter": "python",
   "pygments_lexer": "ipython3",
   "version": "3.10.8"
  }
 },
 "nbformat": 4,
 "nbformat_minor": 5
}
