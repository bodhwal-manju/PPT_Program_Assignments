{
 "cells": [
  {
   "cell_type": "markdown",
   "id": "ee512b24-2570-4445-9200-c2eec7ac3c51",
   "metadata": {},
   "source": [
    "# Q1"
   ]
  },
  {
   "cell_type": "markdown",
   "id": "338c20e9-4a0e-4b3a-a5e1-9cdb6c0551c7",
   "metadata": {},
   "source": [
    "Convert 1D Array Into 2D Array\n",
    "\n",
    "You are given a **0-indexed** 1-dimensional (1D) integer array original, and two integers, m and n. You are tasked with creating a 2-dimensional (2D) array with  m rows and n columns using **all** the elements from original.\n",
    "\n",
    "The elements from indices 0 to n - 1 (**inclusive**) of original should form the first row of the constructed 2D array, the elements from indices n to 2 * n - 1 (**inclusive**) should form the second row of the constructed 2D array, and so on.\n",
    "\n",
    "Return *an* m x n *2D array constructed according to the above procedure, or an empty 2D array if it is impossible*.\n",
    "\n",
    "**Example 1:**\n",
    "**Input:** original = [1,2,3,4], m = 2, n = 2\n",
    "\n",
    "**Output:** [[1,2],[3,4]]"
   ]
  },
  {
   "cell_type": "code",
   "execution_count": 20,
   "id": "7e5b6f19-41f2-4006-ab28-2ba8729a6143",
   "metadata": {},
   "outputs": [
    {
     "data": {
      "text/plain": [
       "[[1, 2], [3, 4]]"
      ]
     },
     "execution_count": 20,
     "metadata": {},
     "output_type": "execute_result"
    }
   ],
   "source": [
    "def construct2DArray(original, m, n):\n",
    "        result=[]\n",
    "        if len(original)!=m*n:\n",
    "            return result\n",
    "\n",
    "        for i in range(0,len(original),n):\n",
    "            result.append(original[i:i+n])\n",
    "        return result\n",
    "original = [1,2,3,4]\n",
    "m = 2\n",
    "n = 2    \n",
    "construct2DArray(original,m,n)   "
   ]
  },
  {
   "cell_type": "markdown",
   "id": "f5ba4f45-e840-4166-8478-5e226185ae11",
   "metadata": {},
   "source": [
    "# Q2"
   ]
  },
  {
   "cell_type": "markdown",
   "id": "6161b5d9-bae7-4806-904b-8871ea016c20",
   "metadata": {},
   "source": [
    "You have n coins and you want to build a staircase with these coins. The staircase consists of k rows where the ith row has exactly i coins. The last row of the staircase **may be** incomplete.\n",
    "\n",
    "Given the integer n, return *the number of **complete rows** of the staircase you will build*.\n",
    "\n",
    "**Example 1:**\n",
    "\n",
    "**Input:** n = 5\n",
    "\n",
    "**Output:** 2"
   ]
  },
  {
   "cell_type": "code",
   "execution_count": 23,
   "id": "deabd4d8-006f-465a-939b-22255fdc5bbe",
   "metadata": {},
   "outputs": [
    {
     "data": {
      "text/plain": [
       "2"
      ]
     },
     "execution_count": 23,
     "metadata": {},
     "output_type": "execute_result"
    }
   ],
   "source": [
    "def staircase(n):\n",
    "    sum=0\n",
    "    if n==0 or n==1:\n",
    "        return n\n",
    "    for i in range(1,n+1):\n",
    "        sum+=i\n",
    "        if sum>n:\n",
    "            return i-1\n",
    "        if sum==n:\n",
    "            return i\n",
    "n = 5\n",
    "staircase(n)"
   ]
  },
  {
   "cell_type": "markdown",
   "id": "9d2cab11-8c05-4c47-afec-af002cdb120e",
   "metadata": {},
   "source": [
    "# Q3 "
   ]
  },
  {
   "cell_type": "markdown",
   "id": "056f4c39-fac6-4eb0-ba99-27e5ff454598",
   "metadata": {},
   "source": [
    "Given an integer array nums sorted in **non-decreasing** order, return *an array of **the squares of each number** sorted in non-decreasing order*.\n",
    "\n",
    "**Example 1:**\n",
    "\n",
    "**Input:** nums = [-4,-1,0,3,10]\n",
    "\n",
    "**Output:** [0,1,9,16,100]\n",
    "\n",
    "**Explanation:** After squaring, the array becomes [16,1,0,9,100].\n",
    "\n",
    "After sorting, it becomes [0,1,9,16,100]."
   ]
  },
  {
   "cell_type": "code",
   "execution_count": 32,
   "id": "08a8f8df-c31a-43ef-a9d7-4c6ce58b49e9",
   "metadata": {},
   "outputs": [
    {
     "data": {
      "text/plain": [
       "[0, 1, 9, 16, 100]"
      ]
     },
     "execution_count": 32,
     "metadata": {},
     "output_type": "execute_result"
    }
   ],
   "source": [
    "def sorted_square(nums):\n",
    "    result=[i**2 for i in nums]\n",
    "    result.sort()\n",
    "    return result\n",
    "nums = [-4,-1,0,3,10]\n",
    "sorted_square(nums)"
   ]
  },
  {
   "cell_type": "markdown",
   "id": "913102a8-2e75-4c95-a505-3a04c00b45b2",
   "metadata": {},
   "source": [
    "# Q4"
   ]
  },
  {
   "cell_type": "markdown",
   "id": "570fef2a-4acf-4c9f-b500-bc47a83f6ec9",
   "metadata": {},
   "source": [
    "Given two **0-indexed** integer arrays nums1 and nums2, return *a list* answer *of size* 2 *where:*\n",
    "\n",
    "- answer[0] *is a list of all **distinct** integers in* nums1 *which are **not** present in* nums2*.*\n",
    "- answer[1] *is a list of all **distinct** integers in* nums2 *which are **not** present in* nums1.\n",
    "\n",
    "**Note** that the integers in the lists may be returned in **any** order.\n",
    "\n",
    "**Example 1:**\n",
    "\n",
    "**Input:** nums1 = [1,2,3], nums2 = [2,4,6]\n",
    "\n",
    "**Output:** [[1,3],[4,6]]\n",
    "\n",
    "**Explanation:**\n",
    "\n",
    "For nums1, nums1[1] = 2 is present at index 0 of nums2, whereas nums1[0] = 1 and nums1[2] = 3 are not present in nums2. Therefore, answer[0] = [1,3].\n",
    "\n",
    "For nums2, nums2[0] = 2 is present at index 1 of nums1, whereas  nums2[1] = 4 and nums2[2] = 6 are not present in nums2. Therefore, answer[1] = [4,6]."
   ]
  },
  {
   "cell_type": "code",
   "execution_count": 36,
   "id": "19d7182a-5605-4eaf-89bf-4a3fc589e04d",
   "metadata": {},
   "outputs": [
    {
     "data": {
      "text/plain": [
       "[[1, 3], [4, 6]]"
      ]
     },
     "execution_count": 36,
     "metadata": {},
     "output_type": "execute_result"
    }
   ],
   "source": [
    "def distinct_Integer(nums1,nums2):\n",
    "    l1=0\n",
    "    l2=1\n",
    "    return [[i for i in nums1 if i not in nums2],[i for i in nums2 if i not in nums1]]\n",
    "nums1=[1,2,3]\n",
    "nums2 = [2,4,6]\n",
    "distinct_Integer(nums1,nums2)"
   ]
  },
  {
   "cell_type": "markdown",
   "id": "7d5af281-f7ee-41ce-8fcb-9dfb72777569",
   "metadata": {},
   "source": [
    "# Q5"
   ]
  },
  {
   "cell_type": "markdown",
   "id": "ab723c15-dfc9-48ff-9eeb-61861b833679",
   "metadata": {},
   "source": [
    "Given two integer arrays arr1 and arr2, and the integer d, *return the distance value between the two arrays*.\n",
    "\n",
    "The distance value is defined as the number of elements arr1[i] such that there is not any element arr2[j] where |arr1[i]-arr2[j]| <= d.\n",
    "\n",
    "**Example 1:**\n",
    "\n",
    "**Input:** arr1 = [4,5,8], arr2 = [10,9,1,8], d = 2\n",
    "\n",
    "**Output:** 2"
   ]
  },
  {
   "cell_type": "code",
   "execution_count": 1,
   "id": "9ece0c8d-dc9c-4b5b-badf-1d57a67e546e",
   "metadata": {},
   "outputs": [
    {
     "name": "stdout",
     "output_type": "stream",
     "text": [
      "2\n"
     ]
    }
   ],
   "source": [
    "def findTheDistanceValue(arr1, arr2, d):\n",
    "    distance = 0\n",
    "    for num1 in arr1:\n",
    "        found = False\n",
    "        for num2 in arr2:\n",
    "            if abs(num1 - num2) <= d:\n",
    "                found = True\n",
    "                break\n",
    "        if not found:\n",
    "            distance += 1\n",
    "    return distance\n",
    "arr1 = [4, 5, 8]\n",
    "arr2 = [10, 9, 1, 8]\n",
    "d = 2\n",
    "distance = findTheDistanceValue(arr1, arr2, d)\n",
    "print(distance)"
   ]
  },
  {
   "cell_type": "code",
   "execution_count": null,
   "id": "27e85613-0863-4af8-9af8-021973e7e8bd",
   "metadata": {},
   "outputs": [],
   "source": []
  },
  {
   "cell_type": "markdown",
   "id": "51d58730-ec18-4132-a397-c1a69b736ca6",
   "metadata": {},
   "source": [
    "# Q6"
   ]
  },
  {
   "cell_type": "markdown",
   "id": "4e2b1046-891a-48f6-b75e-433ae3173ebe",
   "metadata": {},
   "source": [
    "Given an integer array nums of length n where all the integers of nums are in the range [1, n] and each integer appears **once** or **twice**, return *an array of all the integers that appears **twice***.\n",
    "\n",
    "You must write an algorithm that runs in O(n) time and uses only constant extra space.\n",
    "\n",
    "**Example 1:**\n",
    "\n",
    "**Input:** nums = [4,3,2,7,8,2,3,1]\n",
    "\n",
    "**Output:**\n",
    "\n",
    "[2,3]"
   ]
  },
  {
   "cell_type": "code",
   "execution_count": 10,
   "id": "56f0fad3-7b23-4024-9d8a-24309e242943",
   "metadata": {},
   "outputs": [
    {
     "data": {
      "text/plain": [
       "[3, 2]"
      ]
     },
     "execution_count": 10,
     "metadata": {},
     "output_type": "execute_result"
    }
   ],
   "source": [
    "from collections import Counter\n",
    "def FindDuplicates(nums):\n",
    "    counter=Counter(nums)\n",
    "    result=[]\n",
    "    for num,count in counter.items():\n",
    "        if count==2:\n",
    "            result.append(num)\n",
    "    return result \n",
    "nums = [4,3,2,7,8,2,3,1]\n",
    "FindDuplicates(nums)"
   ]
  },
  {
   "cell_type": "markdown",
   "id": "a2262e08-2363-4602-8da8-24f9023bcf88",
   "metadata": {},
   "source": [
    "# Q7"
   ]
  },
  {
   "cell_type": "markdown",
   "id": "048e1189-4625-47e9-a8d2-53206d01b149",
   "metadata": {},
   "source": [
    "Suppose an array of length n sorted in ascending order is **rotated** between 1 and n times. For example, the array nums = [0,1,2,4,5,6,7] might become:\n",
    "\n",
    "- [4,5,6,7,0,1,2] if it was rotated 4 times.\n",
    "- [0,1,2,4,5,6,7] if it was rotated 7 times.\n",
    "\n",
    "Notice that **rotating** an array [a[0], a[1], a[2], ..., a[n-1]] 1 time results in the array [a[n-1], a[0], a[1], a[2], ..., a[n-2]].\n",
    "\n",
    "Given the sorted rotated array nums of **unique** elements, return *the minimum element of this array*.\n",
    "\n",
    "You must write an algorithm that runs in O(log n) time.\n",
    "\n",
    "**Example 1:**\n",
    "\n",
    "**Input:** nums = [3,4,5,1,2]\n",
    "\n",
    "**Output:** 1\n",
    "\n",
    "**Explanation:**\n",
    "\n",
    "The original array was [1,2,3,4,5] rotated 3 times."
   ]
  },
  {
   "cell_type": "code",
   "execution_count": 4,
   "id": "af57d6ab-402b-408e-aeb5-bc9756c9cdd0",
   "metadata": {},
   "outputs": [
    {
     "data": {
      "text/plain": [
       "1"
      ]
     },
     "execution_count": 4,
     "metadata": {},
     "output_type": "execute_result"
    }
   ],
   "source": [
    "def findMin( nums):\n",
    "    if len(nums) == 1:\n",
    "        return nums[0]\n",
    "\n",
    "    si = 0\n",
    "    ei = len(nums) - 1\n",
    "    while si <= ei:\n",
    "        mid = (si + ei) // 2\n",
    "        if  mid < len(nums) - 1 and nums[mid] > nums[mid + 1]:\n",
    "            return nums[mid + 1]\n",
    "\n",
    "        if nums[mid] < nums[mid - 1]:\n",
    "            return nums[mid]\n",
    "\n",
    "        if nums[mid] > nums[0]:\n",
    "            si = mid + 1\n",
    "        else:\n",
    "            ei = mid - 1\n",
    "\n",
    "   # return nums[si]  # Return the smallest element if not found in the loop\n",
    "nums=[3,4,5,1,2]\n",
    "findMin( nums)"
   ]
  },
  {
   "cell_type": "markdown",
   "id": "f0159d2c-4b67-43c3-b2b5-5992a4373db0",
   "metadata": {},
   "source": [
    "# Q8"
   ]
  },
  {
   "cell_type": "markdown",
   "id": "e4df8d7f-d3df-4560-97d8-9c64ee83c2ec",
   "metadata": {},
   "source": [
    "An integer array original is transformed into a **doubled** array changed by appending **twice the value** of every element in original, and then randomly **shuffling** the resulting array.\n",
    "\n",
    "Given an array changed, return original *if* changed *is a **doubled** array. If* changed *is not a **doubled** array, return an empty array. The elements in* original *may be returned in **any** order*.\n",
    "\n",
    "**Example 1:**\n",
    "\n",
    "**Input:** changed = [1,3,4,2,6,8]\n",
    "\n",
    "**Output:** [1,3,4]\n",
    "\n",
    "**Explanation:** One possible original array could be [1,3,4]:\n",
    "\n",
    "- Twice the value of 1 is 1 * 2 = 2.\n",
    "- Twice the value of 3 is 3 * 2 = 6.\n",
    "- Twice the value of 4 is 4 * 2 = 8.\n",
    "\n",
    "Other original arrays could be [4,3,1] or [3,1,4]."
   ]
  },
  {
   "cell_type": "code",
   "execution_count": 7,
   "id": "6f4d61ac-01bd-4d78-a022-9f99ce92aeba",
   "metadata": {},
   "outputs": [
    {
     "data": {
      "text/plain": [
       "[1, 4, 3]"
      ]
     },
     "execution_count": 7,
     "metadata": {},
     "output_type": "execute_result"
    }
   ],
   "source": [
    "    from collections import Counter\n",
    "    def findOriginalArray(changed):\n",
    "        counter =Counter(changed)\n",
    "        res = []\n",
    "        for k in counter.keys():\n",
    "            \n",
    "            if k == 0:\n",
    "                # handle zero as special case\n",
    "                if counter[k] % 2 > 0:\n",
    "                    return []\n",
    "                res += [0] * (counter[k] // 2)\n",
    "                \n",
    "            elif counter[k] > 0:\n",
    "                x = k\n",
    "                \n",
    "                # walk down the chain\n",
    "                while x % 2 == 0 and x // 2 in counter:\n",
    "                    x = x // 2\n",
    "                    \n",
    "                # walk up and process all numbers within the chain. mark the counts as 0\n",
    "                while x in counter:\n",
    "                    if counter[x] > 0:\n",
    "                        res += [x] * counter[x]\n",
    "                        if counter[x+x] < counter[x]:\n",
    "                            return []\n",
    "                        counter[x+x] -= counter[x]\n",
    "                        counter[x] = 0\n",
    "                    x += x\n",
    "        return res\n",
    "    \n",
    "changed = [1,3,4,2,6,8]\n",
    "findOriginalArray(changed)"
   ]
  },
  {
   "cell_type": "code",
   "execution_count": null,
   "id": "a1dc5718-8ec2-48f4-a243-0098d8591ec9",
   "metadata": {},
   "outputs": [],
   "source": []
  },
  {
   "cell_type": "code",
   "execution_count": null,
   "id": "b1f82644-62a7-49d2-85e5-86dd0cc50505",
   "metadata": {},
   "outputs": [],
   "source": []
  },
  {
   "cell_type": "code",
   "execution_count": null,
   "id": "7a0d7520-0c3e-46c3-9b91-54753d3cead5",
   "metadata": {},
   "outputs": [],
   "source": []
  },
  {
   "cell_type": "code",
   "execution_count": null,
   "id": "3da104fd-ce77-44f9-bdf5-7467aa25ee9a",
   "metadata": {},
   "outputs": [],
   "source": []
  },
  {
   "cell_type": "code",
   "execution_count": null,
   "id": "6e8ee190-9a75-4b5f-b1a9-1361225946c1",
   "metadata": {},
   "outputs": [],
   "source": []
  },
  {
   "cell_type": "code",
   "execution_count": null,
   "id": "cf3fdded-f381-41f1-85b5-7a33e84e463e",
   "metadata": {},
   "outputs": [],
   "source": []
  },
  {
   "cell_type": "code",
   "execution_count": null,
   "id": "f4465146-b41d-43b1-9119-602664503aa8",
   "metadata": {},
   "outputs": [],
   "source": []
  }
 ],
 "metadata": {
  "kernelspec": {
   "display_name": "Python 3 (ipykernel)",
   "language": "python",
   "name": "python3"
  },
  "language_info": {
   "codemirror_mode": {
    "name": "ipython",
    "version": 3
   },
   "file_extension": ".py",
   "mimetype": "text/x-python",
   "name": "python",
   "nbconvert_exporter": "python",
   "pygments_lexer": "ipython3",
   "version": "3.10.8"
  }
 },
 "nbformat": 4,
 "nbformat_minor": 5
}
