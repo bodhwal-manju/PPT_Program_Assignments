{
 "cells": [
  {
   "cell_type": "markdown",
   "id": "4a7620fb-387d-4920-a790-92dc415116a9",
   "metadata": {},
   "source": [
    "# Q1"
   ]
  },
  {
   "cell_type": "markdown",
   "id": "92ca8e82-ca70-4172-ab66-f5ce73cb9194",
   "metadata": {},
   "source": [
    "<aside>\n",
    "💡 **Question 1**\n",
    "Given three integer arrays arr1, arr2 and arr3 **sorted** in **strictly increasing** order, return a sorted array of **only** the integers that appeared in **all** three arrays.\n",
    "\n",
    "**Example 1:**\n",
    "\n",
    "Input: arr1 = [1,2,3,4,5], arr2 = [1,2,5,7,9], arr3 = [1,3,4,5,8]\n",
    "\n",
    "Output: [1,5]\n",
    "\n",
    "**Explanation:** Only 1 and 5 appeared in the three arrays.\n",
    "\n",
    "</aside>"
   ]
  },
  {
   "cell_type": "code",
   "execution_count": 14,
   "id": "1e0a3324-69cb-4286-93b9-c8d9c188c774",
   "metadata": {},
   "outputs": [
    {
     "data": {
      "text/plain": [
       "[1, 5]"
      ]
     },
     "execution_count": 14,
     "metadata": {},
     "output_type": "execute_result"
    }
   ],
   "source": [
    "\n",
    "def Intersection_Sorted_Arrays(arr1,arr2,arr3):\n",
    "    n1,n2,n3=len(arr1),len(arr2),len(arr3)\n",
    "    i,j,k=0,0,0\n",
    "    result=[]\n",
    "    while(i<n1 and j<n2 and k<n3):\n",
    "        if arr1[i]==arr2[j] and arr2[j]==arr3[k]:\n",
    "            result.append(arr1[i])\n",
    "            i+=1\n",
    "            j+=1\n",
    "            k+=1\n",
    "        elif arr1[i]<arr2[j]:\n",
    "            i+=1\n",
    "        elif arr2[j]<arr3[k]:\n",
    "            j+=1\n",
    "        else:\n",
    "            k+=1\n",
    "    \n",
    "    return result        \n",
    "arr1=[1,2,3,4,5]\n",
    "arr2 = [1,2,5,7,9]\n",
    "arr3 = [1,3,4,5,8]\n",
    "Intersection_Sorted_Arrays(arr1,arr2,arr3)        \n",
    "    \n"
   ]
  },
  {
   "cell_type": "markdown",
   "id": "6754ea32-c61e-4134-811b-916f2e5ec662",
   "metadata": {},
   "source": [
    "# Q2"
   ]
  },
  {
   "cell_type": "markdown",
   "id": "54acb011-01be-4890-bc51-7f8c03b40e07",
   "metadata": {},
   "source": [
    "Given two **0-indexed** integer arrays nums1 and nums2, return *a list* answer *of size* 2 *where:*\n",
    "\n",
    "- answer[0] *is a list of all **distinct** integers in* nums1 *which are **not** present in* nums2*.*\n",
    "- answer[1] *is a list of all **distinct** integers in* nums2 *which are **not** present in* nums1.\n",
    "\n",
    "**Note** that the integers in the lists may be returned in **any** order.\n",
    "\n",
    "**Example 1:**\n",
    "\n",
    "**Input:** nums1 = [1,2,3], nums2 = [2,4,6]\n",
    "\n",
    "**Output:** [[1,3],[4,6]]\n",
    "\n",
    "**Explanation:**\n",
    "\n",
    "For nums1, nums1[1] = 2 is present at index 0 of nums2, whereas nums1[0] = 1 and nums1[2] = 3 are not present in nums2. Therefore, answer[0] = [1,3].\n",
    "\n",
    "For nums2, nums2[0] = 2 is present at index 1 of nums1, whereas nums2[1] = 4 and nums2[2] = 6 are not present in nums2. Therefore, answer[1] = [4,6]."
   ]
  },
  {
   "cell_type": "code",
   "execution_count": 6,
   "id": "e4a8c0ca-c739-4282-9777-042d1792aa67",
   "metadata": {},
   "outputs": [
    {
     "data": {
      "text/plain": [
       "[[1, 3], [4, 6]]"
      ]
     },
     "execution_count": 6,
     "metadata": {},
     "output_type": "execute_result"
    }
   ],
   "source": [
    "def findDifference( nums1, nums2):\n",
    "    n1=set(nums1)\n",
    "    n2=set(nums2)\n",
    "    r1=list(set(x for x in nums1 if x not in nums2))\n",
    "    r2=list(set(x for x in nums2 if x not in n1))\n",
    "    return [r1,r2]\n",
    "nums1= [1,2,3]\n",
    "nums2 = [2,4,6] \n",
    "findDifference( nums1, nums2)"
   ]
  },
  {
   "cell_type": "code",
   "execution_count": 8,
   "id": "3b566c9b-0b8e-4434-a9ab-ce9ec3e6bb1e",
   "metadata": {},
   "outputs": [
    {
     "data": {
      "text/plain": [
       "[[1, 3], [4, 6]]"
      ]
     },
     "execution_count": 8,
     "metadata": {},
     "output_type": "execute_result"
    }
   ],
   "source": [
    " #solution 2\n",
    "def findDifference(nums1, nums2):\n",
    "        return [[x for x in set(nums1)-set(nums2)],[y for y in set(nums2)-set(nums1)]]   \n",
    "findDifference(nums1, nums2)    "
   ]
  },
  {
   "cell_type": "markdown",
   "id": "58238a2d-f9ac-4e04-8861-bdd1baa28afc",
   "metadata": {},
   "source": [
    "# Q3"
   ]
  },
  {
   "cell_type": "markdown",
   "id": "c892757d-cc2b-4f0a-8c43-e841068616f0",
   "metadata": {},
   "source": [
    "<aside>\n",
    "💡 **Question 3**\n",
    "Given a 2D integer array matrix, return *the **transpose** of* matrix.\n",
    "\n",
    "The **transpose** of a matrix is the matrix flipped over its main diagonal, switching the matrix's row and column indices.\n",
    "\n",
    "**Example 1:**\n",
    "\n",
    "Input: matrix = [[1,2,3],[4,5,6],[7,8,9]]\n",
    "\n",
    "Output: [[1,4,7],[2,5,8],[3,6,9]]\n",
    "\n",
    "</aside>"
   ]
  },
  {
   "cell_type": "code",
   "execution_count": 2,
   "id": "11f5f66a-f05d-4ac8-84f5-000d557eb447",
   "metadata": {},
   "outputs": [
    {
     "data": {
      "text/plain": [
       "[[1, 4, 7], [2, 5, 8], [3, 6, 9]]"
      ]
     },
     "execution_count": 2,
     "metadata": {},
     "output_type": "execute_result"
    }
   ],
   "source": [
    "def Transpose(matrix):\n",
    "    n=len(matrix)\n",
    "    m=len(matrix[0])\n",
    "    result=[]\n",
    "    for x in range(m):\n",
    "        result.append([0]*n)\n",
    "    for i in range(n):\n",
    "        for j in range(m):\n",
    "            result[j][i]=matrix[i][j]\n",
    "    return result    \n",
    "matrix = [[1,2,3],[4,5,6],[7,8,9]]\n",
    "Transpose(matrix)"
   ]
  },
  {
   "cell_type": "markdown",
   "id": "fae15e56-dfcc-49d8-a132-9dd19a5b48ac",
   "metadata": {},
   "source": [
    "# Q4"
   ]
  },
  {
   "cell_type": "markdown",
   "id": "c140c7e7-c186-40d3-960c-e3e98b52ec0a",
   "metadata": {},
   "source": [
    "<aside>\n",
    "💡 **Question 4**\n",
    "Given an integer array nums of 2n integers, group these integers into n pairs (a1, b1), (a2, b2), ..., (an, bn) such that the sum of min(ai, bi) for all i is **maximized**. Return *the maximized sum*.\n",
    "\n",
    "**Example 1:**\n",
    "\n",
    "Input: nums = [1,4,3,2]\n",
    "\n",
    "Output: 4\n",
    "\n",
    "**Explanation:** All possible pairings (ignoring the ordering of elements) are:\n",
    "\n",
    "1. (1, 4), (2, 3) -> min(1, 4) + min(2, 3) = 1 + 2 = 3\n",
    "\n",
    "2. (1, 3), (2, 4) -> min(1, 3) + min(2, 4) = 1 + 2 = 3\n",
    "\n",
    "3. (1, 2), (3, 4) -> min(1, 2) + min(3, 4) = 1 + 3 = 4\n",
    "\n",
    "So the maximum possible sum is 4.\n",
    "\n",
    "</aside>"
   ]
  },
  {
   "cell_type": "code",
   "execution_count": 4,
   "id": "28c29f74-1985-4eae-8e41-1dbb29b45a6b",
   "metadata": {},
   "outputs": [
    {
     "data": {
      "text/plain": [
       "4"
      ]
     },
     "execution_count": 4,
     "metadata": {},
     "output_type": "execute_result"
    }
   ],
   "source": [
    "def MaximizeSum(nums):\n",
    "    nums.sort()\n",
    "    n=len(nums)\n",
    "    sum=0\n",
    "    for i in range(0,n,2):\n",
    "        sum+=nums[i]\n",
    "    return sum \n",
    "nums = [1,4,3,2]\n",
    "MaximizeSum(nums)"
   ]
  },
  {
   "cell_type": "markdown",
   "id": "66def234-1267-4458-b91b-735dab888694",
   "metadata": {},
   "source": [
    "# Q5"
   ]
  },
  {
   "cell_type": "markdown",
   "id": "6b0fda50-7e0d-4037-b7a3-77fc71c49d33",
   "metadata": {},
   "source": [
    "<aside>\n",
    "💡 **Question 5**\n",
    "You have n coins and you want to build a staircase with these coins. The staircase consists of k rows where the ith row has exactly i coins. The last row of the staircase **may be** incomplete.\n",
    "\n",
    "Given the integer n, return *the number of **complete rows** of the staircase you will build*.\n",
    "\n",
    "**Example 1:**\n",
    "    **Input:** n = 5\n",
    "\n",
    "**Output:** 2\n",
    "\n",
    "</aside>"
   ]
  },
  {
   "cell_type": "code",
   "execution_count": 13,
   "id": "57bd8547-b11b-4be0-8b8b-0aa3a0a5be1f",
   "metadata": {},
   "outputs": [
    {
     "data": {
      "text/plain": [
       "2"
      ]
     },
     "execution_count": 13,
     "metadata": {},
     "output_type": "execute_result"
    }
   ],
   "source": [
    "def Staricase(n):\n",
    "    sum=0\n",
    "    if n==1 or n==0:\n",
    "        return n\n",
    "    for i in range(1,n+1):\n",
    "        sum+=i\n",
    "        if sum>n:\n",
    "            \n",
    "            return i-1\n",
    "        elif sum==n:\n",
    "            return i    \n",
    "Staricase(5)"
   ]
  },
  {
   "cell_type": "markdown",
   "id": "855bd156-671a-488a-a4f0-6b7d6fca2b18",
   "metadata": {},
   "source": [
    "# Q6"
   ]
  },
  {
   "cell_type": "markdown",
   "id": "d51675e7-ad79-42e7-9b23-3b05345f3a04",
   "metadata": {},
   "source": [
    "<aside>\n",
    "💡 **Question 6**\n",
    "Given an integer array nums sorted in **non-decreasing** order, return *an array of **the squares of each number** sorted in non-decreasing order*.\n",
    "\n",
    "**Example 1:**\n",
    "\n",
    "Input: nums = [-4,-1,0,3,10]\n",
    "\n",
    "Output: [0,1,9,16,100]\n",
    "\n",
    "**Explanation:** After squaring, the array becomes [16,1,0,9,100].\n",
    "After sorting, it becomes [0,1,9,16,100]\n",
    "\n",
    "</aside>"
   ]
  },
  {
   "cell_type": "code",
   "execution_count": 28,
   "id": "b58bfa56-42e8-4b9c-9675-97bcfaa914f5",
   "metadata": {},
   "outputs": [
    {
     "data": {
      "text/plain": [
       "[0, 1, 9, 16, 100]"
      ]
     },
     "execution_count": 28,
     "metadata": {},
     "output_type": "execute_result"
    }
   ],
   "source": [
    "def sortedSquares(nums):\n",
    "    result=[i**2 for i in nums]\n",
    "    result.sort()\n",
    "    return result\n",
    "nums= [-4,-1,0,3,10]   \n",
    "sortedSquares(nums)    \n",
    "    "
   ]
  },
  {
   "cell_type": "code",
   "execution_count": 29,
   "id": "ce35e6f0-6ef2-4760-9734-bf211de202be",
   "metadata": {},
   "outputs": [
    {
     "data": {
      "text/plain": [
       "[0, 1, 9, 16, 100]"
      ]
     },
     "execution_count": 29,
     "metadata": {},
     "output_type": "execute_result"
    }
   ],
   "source": [
    "#Solution 2\n",
    "def sortedSquares(nums):\n",
    "    \n",
    "    return sorted([i**2 for i in nums])\n",
    "    \n",
    "    \n",
    "nums= [-4,-1,0,3,10]   \n",
    "sortedSquares(nums)    "
   ]
  },
  {
   "cell_type": "markdown",
   "id": "990c1026-edec-4fc6-b30d-e45af40b23e4",
   "metadata": {},
   "source": [
    "# Q7"
   ]
  },
  {
   "cell_type": "markdown",
   "id": "03dce8e0-a184-4783-81e6-cadc83d46dbe",
   "metadata": {},
   "source": [
    "<aside>\n",
    "💡 **Question 7**\n",
    "You are given an m x n matrix M initialized with all 0's and an array of operations ops, where ops[i] = [ai, bi] means M[x][y] should be incremented by one for all 0 <= x < ai and 0 <= y < bi.\n",
    "\n",
    "Count and return *the number of maximum integers in the matrix after performing all the operations*\n",
    "\n",
    "**Example 1:**\n",
    "\n",
    "![q4.jpg](https://s3-us-west-2.amazonaws.com/secure.notion-static.com/4d0890d0-7bc7-4f59-be8e-352d9f3c1c52/q4.jpg)\n",
    "\n",
    "**Input:** m = 3, n = 3, ops = [[2,2],[3,3]]\n",
    "\n",
    "**Output:** 4\n",
    "\n",
    "**Explanation:** The maximum integer in M is 2, and there are four of it in M. So return 4.\n",
    "\n",
    "</aside>"
   ]
  },
  {
   "cell_type": "code",
   "execution_count": 33,
   "id": "6b626b8b-697b-4f82-9b36-6c713a8903f5",
   "metadata": {},
   "outputs": [
    {
     "data": {
      "text/plain": [
       "4"
      ]
     },
     "execution_count": 33,
     "metadata": {},
     "output_type": "execute_result"
    }
   ],
   "source": [
    "def maxCount( m, n, ops):\n",
    "    min_y = m\n",
    "    min_x = n\n",
    "\n",
    "    for y, x in ops:\n",
    "        min_y = min(min_y, y)\n",
    "        min_x = min(min_x, x)  \n",
    "    return min_x * min_y\n",
    "m = 3\n",
    "n = 3\n",
    "ops = [[2,2],[3,3]]    \n",
    "maxCount( m, n, ops)"
   ]
  },
  {
   "cell_type": "markdown",
   "id": "83492cc0-8831-46f0-93dc-2a324dbd3670",
   "metadata": {},
   "source": [
    "# Q8"
   ]
  },
  {
   "cell_type": "markdown",
   "id": "f82a0800-29ff-41c0-b95a-b2af31c46c2f",
   "metadata": {},
   "source": [
    "<aside>\n",
    "💡 **Question 8**\n",
    "\n",
    "Given the array nums consisting of 2n elements in the form [x1,x2,...,xn,y1,y2,...,yn].\n",
    "\n",
    "*Return the array in the form* [x1,y1,x2,y2,...,xn,yn].\n",
    "\n",
    "**Example 1:**\n",
    "\n",
    "**Input:** nums = [2,5,1,3,4,7], n = 3\n",
    "\n",
    "**Output:** [2,3,5,4,1,7]\n",
    "\n",
    "**Explanation:** Since x1=2, x2=5, x3=1, y1=3, y2=4, y3=7 then the answer is [2,3,5,4,1,7].\n",
    "\n",
    "</aside>"
   ]
  },
  {
   "cell_type": "code",
   "execution_count": 32,
   "id": "74dfd501-3475-4f1d-9eaa-f1059541d816",
   "metadata": {},
   "outputs": [
    {
     "data": {
      "text/plain": [
       "[2, 3, 5, 4, 1, 7]"
      ]
     },
     "execution_count": 32,
     "metadata": {},
     "output_type": "execute_result"
    }
   ],
   "source": [
    "def shuffle( nums, n):\n",
    "    result=[]\n",
    "    left=0\n",
    "    right=n\n",
    "    while(left<right and right<len(nums)):\n",
    "        result.append(nums[left])\n",
    "        left+=1\n",
    "        result.append(nums[right])\n",
    "        right+=1\n",
    "    return result  \n",
    "nums = [2,5,1,3,4,7]\n",
    "n = 3\n",
    "shuffle( nums, n)"
   ]
  },
  {
   "cell_type": "code",
   "execution_count": null,
   "id": "3947486a-f5aa-4886-a456-39411adda544",
   "metadata": {},
   "outputs": [],
   "source": []
  }
 ],
 "metadata": {
  "kernelspec": {
   "display_name": "Python 3 (ipykernel)",
   "language": "python",
   "name": "python3"
  },
  "language_info": {
   "codemirror_mode": {
    "name": "ipython",
    "version": 3
   },
   "file_extension": ".py",
   "mimetype": "text/x-python",
   "name": "python",
   "nbconvert_exporter": "python",
   "pygments_lexer": "ipython3",
   "version": "3.10.8"
  }
 },
 "nbformat": 4,
 "nbformat_minor": 5
}
