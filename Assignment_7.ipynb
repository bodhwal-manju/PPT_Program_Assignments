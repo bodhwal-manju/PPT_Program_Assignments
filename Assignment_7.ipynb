{
 "cells": [
  {
   "cell_type": "markdown",
   "id": "eaf480e7-7269-4b60-85d6-cd953c0ca126",
   "metadata": {},
   "source": [
    "# Q1"
   ]
  },
  {
   "cell_type": "markdown",
   "id": "fab826f7-adf5-4613-99d8-00c2bed88e56",
   "metadata": {},
   "source": [
    "<aside>\n",
    "💡 **Question 1**\n",
    "\n",
    "Given two strings s and t, *determine if they are isomorphic*.\n",
    "\n",
    "Two strings s and t are isomorphic if the characters in s can be replaced to get t.\n",
    "\n",
    "All occurrences of a character must be replaced with another character while preserving the order of characters. No two characters may map to the same character, but a character may map to itself.\n",
    "\n",
    "**Example 1:**\n",
    "\n",
    "**Input:** s = \"egg\", t = \"add\"\n",
    "\n",
    "**Output:** true\n",
    "\n",
    "</aside>"
   ]
  },
  {
   "cell_type": "code",
   "execution_count": 5,
   "id": "c0287978-82bb-4693-8931-ccde4a9b6235",
   "metadata": {},
   "outputs": [
    {
     "data": {
      "text/plain": [
       "True"
      ]
     },
     "execution_count": 5,
     "metadata": {},
     "output_type": "execute_result"
    }
   ],
   "source": [
    "def isIsomorphic( s: str, t: str) -> bool:\n",
    "        map1=[]\n",
    "        map2=[]\n",
    "        for i in s:\n",
    "            map1.append(s.index(i))\n",
    "        for j in t:\n",
    "            map2.append(t.index(j)) \n",
    "        if map1==map2:\n",
    "            return True\n",
    "        return False  \n",
    "s,t= \"egg\",\"add\" \n",
    "isIsomorphic(s,t)"
   ]
  },
  {
   "cell_type": "markdown",
   "id": "ae97bfbe-5911-46e2-9bed-e816048ce506",
   "metadata": {},
   "source": [
    "# Q2\n",
    "Given a string num which represents an integer, return true *if* num *is a **strobogrammatic number***.\n",
    "\n",
    "A **strobogrammatic number** is a number that looks the same when rotated 180 degrees (looked at upside down).\n",
    "\n",
    "**Example 1:**\n",
    "\n",
    "**Input:** num = \"69\"\n",
    "\n",
    "**Output:**\n",
    "\n",
    "true"
   ]
  },
  {
   "cell_type": "code",
   "execution_count": 2,
   "id": "fd9f19ae-3b49-4046-a238-3d56498ee09c",
   "metadata": {},
   "outputs": [
    {
     "name": "stdout",
     "output_type": "stream",
     "text": [
      "['8008', '1001', '9006', '6009', '8888', '1881', '9886', '6889', '8118', '1111', '9116', '6119', '8968', '1961', '9966', '6969', '8698', '1691', '9696', '6699']\n"
     ]
    }
   ],
   "source": [
    "def strobogrammatic_num(n):\n",
    "       \n",
    "    result = numdef(n, n)\n",
    "    return result\n",
    "       \n",
    "# definition function\n",
    "def numdef(n, length):\n",
    "       \n",
    "    if n == 0: return [\"\"]\n",
    "    if n == 1: return [\"1\", \"0\", \"8\"]\n",
    "       \n",
    "    middles = numdef(n - 2, length)\n",
    "    result = []\n",
    "       \n",
    "    for middle in middles:\n",
    "        if n != length:           \n",
    "            result.append(\"0\" + middle + \"0\")\n",
    "   \n",
    "        result.append(\"8\" + middle + \"8\")\n",
    "        result.append(\"1\" + middle + \"1\")\n",
    "        result.append(\"9\" + middle + \"6\")\n",
    "        result.append(\"6\" + middle + \"9\")\n",
    "    return result\n",
    "   \n",
    "    # Print all Strobogrammatic\n",
    "    # number for n = 3\n",
    "print(strobogrammatic_num(4))"
   ]
  },
  {
   "cell_type": "markdown",
   "id": "fdf883ec-2e4e-44ed-b0c5-49a48f0715e0",
   "metadata": {},
   "source": [
    "# Q3 Given two non-negative integers, num1 and num2 represented as string, return *the sum of* num1 *and* num2 *as a string*.\n",
    "\n",
    "You must solve the problem without using any built-in library for handling large integers (such as BigInteger). You must also not convert the inputs to integers directly.\n",
    "\n",
    "**Example 1:**\n",
    "\n",
    "**Input:** num1 = \"11\", num2 = \"123\"\n",
    "\n",
    "**Output:**\n",
    "\n",
    "\"134\""
   ]
  },
  {
   "cell_type": "code",
   "execution_count": 1,
   "id": "9dc025d6-89b0-48b1-802c-b0cdff8f91d1",
   "metadata": {},
   "outputs": [],
   "source": [
    "def addStrings(self, num1: str, num2: str) -> str:\n",
    "        n1=len(num1)-1\n",
    "        n2=len(num2)-1\n",
    "        output=[]\n",
    "        carry=0\n",
    "        while(n1>=0 or n2>=0):\n",
    "            if n1>=0:\n",
    "                value1=ord(num1[n1])-ord(\"0\")\n",
    "            else:\n",
    "                value1=0\n",
    "            if n2>=0:\n",
    "                value2=ord(num2[n2])-ord(\"0\")\n",
    "            else:\n",
    "                value2=0\n",
    "            value=(value1+value2+carry)%10\n",
    "            carry=(value1+value2+carry)//10\n",
    "            output.append(value)\n",
    "            n1-=1\n",
    "            n2-=1\n",
    "        if carry:\n",
    "            output.append(carry)\n",
    "        return \"\".join(str(i) for i in output[::-1])    "
   ]
  },
  {
   "cell_type": "markdown",
   "id": "f133ff5a-ff87-4795-87c1-d1d55cf9bc1f",
   "metadata": {},
   "source": [
    "# Q4 <aside>\n",
    "💡 **Question 4**\n",
    "\n",
    "Given a string s, reverse the order of characters in each word within a sentence while still preserving whitespace and initial word order.\n",
    "\n",
    "**Example 1:**\n",
    "\n",
    "**Input:** s = \"Let's take LeetCode contest\"\n",
    "\n",
    "**Output:** \"s'teL ekat edoCteeL tsetnoc\"\n",
    "\n",
    "</aside>"
   ]
  },
  {
   "cell_type": "code",
   "execution_count": 2,
   "id": "fcca4bbe-f8d9-4663-9250-c646f459ede1",
   "metadata": {},
   "outputs": [
    {
     "data": {
      "text/plain": [
       "\"s'teL ekat edoCteeL tsetnoc\""
      ]
     },
     "execution_count": 2,
     "metadata": {},
     "output_type": "execute_result"
    }
   ],
   "source": [
    "def reverseWords(s):\n",
    "    return \" \".join([i[::-1] for i in s.split()])\n",
    "s=\"Let's take LeetCode contest\"\n",
    "reverseWords(s)"
   ]
  },
  {
   "cell_type": "markdown",
   "id": "5635c499-ecc6-43c1-a797-068904f9e935",
   "metadata": {},
   "source": [
    "# Q5 <aside>\n",
    "💡 **Question 5**\n",
    "\n",
    "Given a string s and an integer k, reverse the first k characters for every 2k characters counting from the start of the string.\n",
    "\n",
    "If there are fewer than k characters left, reverse all of them. If there are less than 2k but greater than or equal to k characters, then reverse the first k characters and leave the other as original.\n",
    "\n",
    "**Example 1:**\n",
    "\n",
    "**Input:** s = \"abcdefg\", k = 2\n",
    "\n",
    "**Output:**\n",
    "\n",
    "\"bacdfeg\"\n",
    "\n",
    "</aside>"
   ]
  },
  {
   "cell_type": "code",
   "execution_count": 3,
   "id": "0516804d-9227-4ac4-8341-a60ef71b1e88",
   "metadata": {},
   "outputs": [
    {
     "data": {
      "text/plain": [
       "'bacdfeg'"
      ]
     },
     "execution_count": 3,
     "metadata": {},
     "output_type": "execute_result"
    }
   ],
   "source": [
    "def reverseStr(s: str, k: int) -> str:\n",
    "    if len(s)<k:\n",
    "        return s[::-1]\n",
    "    if len(s)<2*k:\n",
    "        return s[:k][::-1]+s[k:]\n",
    "    return s[:k][::-1]+s[k:2*k]+reverseStr(s[2*k:],k)  \n",
    "s=\"abcdefg\"\n",
    "k=2\n",
    "reverseStr(s,k)         "
   ]
  },
  {
   "cell_type": "markdown",
   "id": "c095ba10-9a85-45ea-b478-17ea138b4d5a",
   "metadata": {},
   "source": [
    "# Q6\n",
    "<aside>\n",
    "💡 **Question 6**\n",
    "\n",
    "Given two strings s and goal, return true *if and only if* s *can become* goal *after some number of **shifts** on* s.\n",
    "\n",
    "A **shift** on s consists of moving the leftmost character of s to the rightmost position.\n",
    "\n",
    "- For example, if s = \"abcde\", then it will be \"bcdea\" after one shift.\n",
    "\n",
    "**Example 1:**\n",
    "\n",
    "**Input:** s = \"abcde\", goal = \"cdeab\"\n",
    "\n",
    "**Output:**\n",
    "\n",
    "true\n",
    "\n",
    "</aside>"
   ]
  },
  {
   "cell_type": "code",
   "execution_count": 4,
   "id": "3807bee7-b763-4459-b3e5-5cfb8cd73edf",
   "metadata": {},
   "outputs": [
    {
     "data": {
      "text/plain": [
       "True"
      ]
     },
     "execution_count": 4,
     "metadata": {},
     "output_type": "execute_result"
    }
   ],
   "source": [
    " def rotateString( s: str, goal: str) -> bool:\n",
    "        for i in range(len(s)):\n",
    "            if s[i+1:]+s[:i+1]==goal:\n",
    "                return True\n",
    "        return False  \n",
    "s,goal=\"abcde\",\"cdeab\"  \n",
    "rotateString(s,goal)    "
   ]
  },
  {
   "cell_type": "markdown",
   "id": "c472dcf8-3460-4758-97a2-82a6b84d9cc2",
   "metadata": {},
   "source": [
    "# Q7\n",
    "<aside>\n",
    "💡 **Question 7**\n",
    "\n",
    "Given two strings s and t, return true *if they are equal when both are typed into empty text editors*. '#' means a backspace character.\n",
    "\n",
    "Note that after backspacing an empty text, the text will continue empty.\n",
    "\n",
    "**Example 1:**\n",
    "\n",
    "**Input:** s = \"ab#c\", t = \"ad#c\"\n",
    "\n",
    "**Output:** true\n",
    "\n",
    "**Explanation:**\n",
    "\n",
    "Both s and t become \"ac\".\n",
    "\n",
    "</aside>"
   ]
  },
  {
   "cell_type": "code",
   "execution_count": 7,
   "id": "abb3a085-56ba-43c8-8c70-6c7c18a52ddf",
   "metadata": {},
   "outputs": [
    {
     "data": {
      "text/plain": [
       "True"
      ]
     },
     "execution_count": 7,
     "metadata": {},
     "output_type": "execute_result"
    }
   ],
   "source": [
    " def backspaceCompare( s: str, t: str) -> bool:\n",
    "        ss=[]\n",
    "        tt=[]\n",
    "        for i in range(len(s)):\n",
    "            if s[i]!=\"#\":\n",
    "                ss.append(s[i])\n",
    "            else:\n",
    "                if len(ss)!=0:\n",
    "                    ss.pop(-1)\n",
    "        for j in range(len(t)):\n",
    "            if t[j]!=\"#\":\n",
    "                tt.append(t[j])\n",
    "            else:\n",
    "                if len(tt)!=0:\n",
    "                    tt.pop(-1)\n",
    "        s1=\"\".join(ss)\n",
    "        s2=\"\".join(tt)\n",
    "       \n",
    "        if s1==s2:\n",
    "            return True\n",
    "        return False    \n",
    "s,t = \"ab#c\",\"ad#c\" \n",
    "backspaceCompare(s,t)"
   ]
  },
  {
   "cell_type": "markdown",
   "id": "a7e038b7-eae9-4ef3-88fb-4d42adb1a14e",
   "metadata": {},
   "source": [
    "# Q8\n",
    "<aside>\n",
    "💡 **Question 8**\n",
    "\n",
    "You are given an array coordinates, coordinates[i] = [x, y], where [x, y] represents the coordinate of a point. Check if these points make a straight line in the XY plane.\n",
    "    \n",
    "**Input:** coordinates = [[1,2],[2,3],[3,4],[4,5],[5,6],[6,7]]\n",
    "\n",
    "**Output:** true\n",
    "\n",
    "</aside>"
   ]
  },
  {
   "cell_type": "code",
   "execution_count": 1,
   "id": "fb21372b-40e2-4703-a363-92e23605246a",
   "metadata": {},
   "outputs": [
    {
     "data": {
      "text/plain": [
       "True"
      ]
     },
     "execution_count": 1,
     "metadata": {},
     "output_type": "execute_result"
    }
   ],
   "source": [
    "def checkStraightLine(coordinates) -> bool:\n",
    "        if coordinates[1][0]-coordinates[0][0] !=0:\n",
    "            m=(coordinates[1][1]-coordinates[0][1])/(coordinates[1][0]-coordinates[0][0])\n",
    "        else:\n",
    "            for i in range(2,len(coordinates)):\n",
    "                if coordinates[i][0]!=coordinates[0][0]:\n",
    "                    return False\n",
    "            return True        \n",
    "          \n",
    "        c=coordinates[0][1]-m*coordinates[0][0]\n",
    "       \n",
    "        for i in range(len(coordinates)):\n",
    "            if coordinates[i][1]!=m*coordinates[i][0]+c:\n",
    "                return False\n",
    "        return True        \n",
    "coordinates = [[1,2],[2,3],[3,4],[4,5],[5,6],[6,7]]\n",
    "checkStraightLine(coordinates)\n"
   ]
  },
  {
   "cell_type": "code",
   "execution_count": null,
   "id": "6d853d9c-825d-4cc6-ba6b-617a025d711d",
   "metadata": {},
   "outputs": [],
   "source": []
  }
 ],
 "metadata": {
  "kernelspec": {
   "display_name": "Python 3 (ipykernel)",
   "language": "python",
   "name": "python3"
  },
  "language_info": {
   "codemirror_mode": {
    "name": "ipython",
    "version": 3
   },
   "file_extension": ".py",
   "mimetype": "text/x-python",
   "name": "python",
   "nbconvert_exporter": "python",
   "pygments_lexer": "ipython3",
   "version": "3.10.8"
  }
 },
 "nbformat": 4,
 "nbformat_minor": 5
}
